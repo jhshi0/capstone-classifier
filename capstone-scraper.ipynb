{
 "cells": [
  {
   "cell_type": "code",
   "execution_count": null,
   "id": "drawn-youth",
   "metadata": {},
   "outputs": [],
   "source": [
    "import re\n",
    "import requests\n",
    "import shutil \n",
    "import os\n",
    "import io\n",
    "import wget\n",
    "import selenium\n",
    "import base64\n",
    "import lxml\n",
    "import dill\n",
    "import pandas as pd\n",
    "import gzip\n",
    "import numpy as np\n",
    "\n",
    "from collections import Counter\n",
    "from matplotlib import image\n",
    "from urllib.request import urlretrieve \n",
    "from selenium.common.exceptions import TimeoutException\n",
    "from bs4 import BeautifulSoup\n",
    "from IPython.display import Image\n",
    "from selenium import webdriver \n",
    "from selenium.webdriver.support.ui import WebDriverWait\n",
    "from selenium.webdriver.support import expected_conditions\n",
    "from selenium.webdriver.common.by import By \n",
    "from selenium.webdriver.common.keys import Keys\n",
    "from chromedriver_py import binary_path\n",
    "from pathlib import Path \n",
    "from shutil import copyfileobj\n",
    "from itertools import chain\n",
    "from time import sleep\n",
    "from urllib.error import HTTPError"
   ]
  },
  {
   "cell_type": "code",
   "execution_count": null,
   "id": "searching-huntington",
   "metadata": {},
   "outputs": [],
   "source": [
    "pd.set_option('display.max_colwidth', None)"
   ]
  },
  {
   "cell_type": "code",
   "execution_count": null,
   "id": "material-taiwan",
   "metadata": {},
   "outputs": [],
   "source": [
    "browser=webdriver.Chrome(executable_path=binary_path)"
   ]
  },
  {
   "cell_type": "code",
   "execution_count": null,
   "id": "cardiac-oklahoma",
   "metadata": {},
   "outputs": [],
   "source": [
    "IMG_SIZE=(224,)\n",
    "LABELS={ \n",
    "#zillow\n",
    "\"disrepair kitchen site:zillow.com\":0,\n",
    "\"old broken kitchen site:Redfin.com\":0,\n",
    "\"dilapidated kitchen site:zillow.com\":0,\n",
    "\"dirty kitchen site:zillow.com\":0,\n",
    "\"abandoned dirty kitchen site:zillow.com\":0,\n",
    "\"small messy kitchen site:zillow.com\":0,\n",
    "\n",
    "\"cheap condo kitchen site:zillow.com\":1,\n",
    "\"cheap apartment kitchen site:zillow.com\":1,\n",
    "\"motel kitchen site:zillow.com\":1,\n",
    "\n",
    "\"luxurious kitchen site:zillow.com\":2,\n",
    "\"expensive kitchen site:zillow.com\":2,\n",
    "\"mansion kitchen site:zillow.com\":2,\n",
    "}\n",
    "N_CLASSES=3\n",
    "MAIN_DUMPATH= \"./capstonedump\"\n",
    "PHOTO_DUMPATH=\"./capstonedump/photos\"\n",
    "LINK_DUMPATH=\"./capstonedump/links\"\n",
    "DEMO_LISTINGS_DUMPATH=f\"{MAIN_DUMPATH}/demo-listings\""
   ]
  },
  {
   "cell_type": "markdown",
   "id": "spanish-stand",
   "metadata": {
    "heading_collapsed": true
   },
   "source": [
    "#### notes"
   ]
  },
  {
   "cell_type": "markdown",
   "id": "excited-checkout",
   "metadata": {
    "hidden": true
   },
   "source": [
    "```python\n",
    "LABELS={ \n",
    "#zillow\n",
    "\"disrepair kitchen site:zillow.com\":0,\n",
    "\"old broken kitchen site:Redfin.com\":0,\n",
    "\"dilapidated kitchen site:zillow.com\":0,\n",
    "\"dirty kitchen site:zillow.com\":0,\n",
    "\"abandoned dirty kitchen site:zillow.com\":0,\n",
    "\"small messy kitchen site:zillow.com\":0,\n",
    "\n",
    "\"cheap condo kitchen site:zillow.com\":1,\n",
    "\"cheap apartment kitchen site:zillow.com\":1,\n",
    "\"motel kitchen site:zillow.com\":1,\n",
    "\n",
    "\"luxurious kitchen site:zillow.com\":2,\n",
    "\"expensive kitchen site:zillow.com\":2,\n",
    "\"mansion kitchen site:zillow.com\":2,\n",
    "    \n",
    "#redfin\n",
    "\"disrepair kitchen site:Redfin.com\":0,\n",
    "\"old broken kitchen site:Redfin.com\":0,\n",
    "\"dilapidated kitchen site:Redfin.com\":0,\n",
    "\"dirty kitchen site:Redfin.com\":0,\n",
    "\"abandoned dirty kitchen site:Redfin.com\":0,\n",
    "\n",
    "\"cheap condo kitchen site:Redfin.com\":1,\n",
    "\"cheap apartment kitchen site:Redfin.com\":1,\n",
    "\"motel kitchen site:Redfin.com\":1,\n",
    "\n",
    "\"luxurious kitchen site:Redfin.com\":2,\n",
    "\"expensive kitchen site:Redfin.com\":2,\n",
    "\"mansion kitchen site:Redfin.com\":2,\n",
    "  \n",
    "#Realtor    \n",
    "\"disrepair kitchen site:Realtor.com\":0,\n",
    "\"old broken kitchen site:Realtor.com\":0,\n",
    "\"dilapidated kitchen site:Realtor.com\":0,\n",
    "\"dirty kitchen site:Realtor.com\":0,\n",
    "\n",
    "\"cheap condo kitchen site:Realtor.com\":1,\n",
    "\"cheap apartment kitchen site:Realtor.com\":1,\n",
    "\"motel kitchen site:Realtor.com\":1,\n",
    "\n",
    "\"luxurious kitchen site:Realtor.com\":2,\n",
    "\"expensive kitchen site:Realtor.com\":2,\n",
    "\"mansion kitchen site:Realtor.com\":2,\n",
    "    \n",
    "#Trulia\n",
    "\"disrepair kitchen site:Trulia.com\":0,\n",
    "\"old broken kitchen site:Trulia.com\":0,\n",
    "\"dilapidated kitchen site:Trulia.com\":0,\n",
    "\"dirty kitchen site:Trulia.com\":0,\n",
    "\n",
    "\"cheap condo kitchen site:Trulia.com\":1,\n",
    "\"cheap apartment kitchen site:Trulia.com\":1,\n",
    "\"motel kitchen site:Trulia.com\":1,\n",
    "\n",
    "\"luxurious kitchen site:Trulia.com\":2,\n",
    "\"expensive kitchen site:Trulia.com\":2,\n",
    "\"mansion kitchen site:Trulia.com\":2,\n",
    "\n",
    "#homefinder\n",
    "\"disrepair kitchen site:HomeFinder.com\":0,\n",
    "\"old broken kitchen site:HomeFinder.com\":0,\n",
    "\"dilapidated kitchen site:HomeFinder.com\":0,\n",
    "\"dirty kitchen site:HomeFinder.com\":0,\n",
    "\n",
    "\"cheap condo kitchen site:HomeFinder.com\":1,\n",
    "\"cheap apartment kitchen site:HomeFinder.com\":1,\n",
    "\"motel kitchen site:HomeFinder.com\":1,\n",
    "\n",
    "\"luxurious kitchen site:HomeFinder.com\":2,\n",
    "\"expensive kitchen site:HomeFinder.com\":2,\n",
    "\"mansion kitchen site:HomeFinder.com\":2\n",
    "}\n",
    "```"
   ]
  },
  {
   "cell_type": "markdown",
   "id": "burning-movie",
   "metadata": {
    "heading_collapsed": true
   },
   "source": [
    "## older stuffs"
   ]
  },
  {
   "cell_type": "markdown",
   "id": "multiple-composition",
   "metadata": {
    "hidden": true
   },
   "source": [
    "```python\n",
    "urls=[\"https://www.redfin.com/VA/Annandale/3428-Holly-Rd-22003/home/9626608\",\n",
    "      \"https://ssl.cdn-redfin.com/photo/235/bigphoto/914/VAFX2004914_22_1.jpg\",\n",
    "      \"https://photos.zillowstatic.com/fp/0954eb5046a8118ddc8b29a1ac3196b3-uncropped_scaled_within_1536_1152.webp\",\n",
    "      \"https://www.zillow.com/homedetails/333-Haight-St-3-San-Francisco-CA-94102/2069806984_zpid/?mmlb=g,24\", \n",
    "      \"https://www.zillow.com/san-francisco-ca/\",\n",
    "      \"https://duckduckgo.com/?q=&iar=images\"\n",
    "     ] \n",
    "```"
   ]
  },
  {
   "cell_type": "markdown",
   "id": "inappropriate-education",
   "metadata": {
    "hidden": true
   },
   "source": [
    "```python\n",
    "save_path=\"./capstone_imgs/untitled.jpg\"\n",
    "urllib.request.urlretrieve(urls[1], save_path)\n",
    "```"
   ]
  },
  {
   "cell_type": "markdown",
   "id": "dominant-engagement",
   "metadata": {
    "hidden": true
   },
   "source": [
    "```python\n",
    "def download_img(url, file_name, save_dir=\"./capstone_imgs/\", extension=\".jpg\"): \n",
    "    save_path=save_dir+file_name+extension\n",
    "    urllib.request.urlretrieve(url, save_path)\n",
    "    return save_path\n",
    "Image(filename=download_img(urls[2], \"untitled\", \"\"), width=300)\n",
    "```"
   ]
  },
  {
   "cell_type": "markdown",
   "id": "referenced-variance",
   "metadata": {
    "hidden": true
   },
   "source": [
    "```python \n",
    "url_sf_search=urls[4]\n",
    "headers={\n",
    "    'accept':'text/html,application/xhtml+xml,application/xml;q=0.9,image/avif,image/webp,image/apng,*/*;q=0.8,application/signed-exchange;v=b3;q=0.9',\n",
    "    'accept-encoding': 'gzip, deflate, br',\n",
    "    'accept-language': 'en-US,en;q=0.9',\n",
    "    'cache-control': 'max-age=0',\n",
    "    'cookie': 'zguid=23|%249897bb73-322e-443d-9c65-b059de49645e; zgsession=1|e9d13b80-9e85-4ee2-a265-befaa1015074; _ga=GA1.2.354669291.1626721515; _gid=GA1.2.548584873.1626721515; zjs_user_id=null; _pxvid=4138eae9-e8c4-11eb-a486-0242ac120007; _gcl_au=1.1.2033665599.1626721520; KruxPixel=true; DoubleClickSession=true; __pdst=3831350651364e4088d2a56dc79d4c32; _fbp=fb.1.1626721520475.1379154349; _pin_unauth=dWlkPU1XUTRaamt4TkRZdE9HUTJNaTAwTWpRM0xUazNORFF0TTJJNU1qQm1ZMlEyWkRJMQ; KruxAddition=true; _gac_UA-21174015-56=1.1626728921.Cj0KCQjwxdSHBhCdARIsAG6zhlWl1Aadyg0WwouP1bhO1ORDi8KRryrsrR6HXWjMFQFWECffcWRT64kaApsLEALw_wcB; zjs_utmcontent=%221471764169|65545421228|aud-352785740844:kwd-570802407|509015461848|%22; _gcl_aw=GCL.1626728922.Cj0KCQjwxdSHBhCdARIsAG6zhlWl1Aadyg0WwouP1bhO1ORDi8KRryrsrR6HXWjMFQFWECffcWRT64kaApsLEALw_wcB; JSESSIONID=E93CFF85480FE8A19763F0035F16168C; search=6|1629321958191%7Cregion%3Dsan-francisco-ca%26rect%3D38.76%252C-121.48%252C36.76%252C-123.48%26disp%3Dmap%26mdm%3Dauto%26pt%3Dpmf%252Cpf%26fs%3D1%26fr%3D0%26mmm%3D1%26rs%3D0%26ah%3D0%09%0920330%09%09%09%09%09%09; _gat=1; optimizelyEndUserId=oeu1626730194420r0.5311478475437017; zjs_anonymous_id=%229897bb73322e443d9c65b059de49645e%22; _pxff_bsco=1; _pxff_tm=1; _cs_mk=0.6538874072009262_1626730195754; _uetsid=42ee8700e8c411ebbb3725192d4851da; _uetvid=42ef55d0e8c411eba5df59405c258be5; _cs_c=1; _hp2_id.1215457233=%7B%22userId%22%3A%223048392848713395%22%2C%22pageviewId%22%3A%222797487669787189%22%2C%22sessionId%22%3A%22185358963487907%22%2C%22identity%22%3Anull%2C%22trackerVersion%22%3A%224.0%22%7D; _hp2_ses_props.1215457233=%7B%22r%22%3A%22https%3A%2F%2Fwww.zillow.com%2Fsan-francisco-ca%2F%3FsearchQueryState%3D%257B%2522usersSearchTerm%2522%253A%2522san%2520francisco%252C%2520CA%2522%252C%2522mapBounds%2522%253A%257B%2522west%2522%253A-122.75399245214844%252C%2522east%2522%253A-122.28020705175781%252C%2522south%2522%253A37.53038405238991%252C%2522north%2522%253A37.90299568470347%257D%252C%2522mapZoom%2522%253A11%252C%2522regionSelection%2522%253A%255B%257B%2522regionId%2522%253A20330%252C%2522regionType%2522%253A6%257D%255D%252C%2522isMapVisible%2522%253Afalse%252C%2522filterState%2522%253A%257B%2522ah%2522%253A%257B%2522value%2522%253Atrue%257D%252C%2522sort%2522%253A%257B%2522value%2522%253A%2522globalrelevanceex%2522%257D%257D%252C%2522isListVisible%2522%253Atrue%252C%2522category%2522%253A%2522cat1%2522%257D%22%2C%22ts%22%3A1626730196114%2C%22d%22%3A%22www.zillow.com%22%2C%22h%22%3A%22%2Fz%2Fcorp%2Fterms%2F%22%7D; utag_main=v_id:017ac0288ab8000fac6a960cca9d03079002d07100942$_sn:2$_se:1$_ss:1$_st:1626731995917$dc_visit:2$ses_id:1626730195917%3Bexp-session$_pn:1%3Bexp-session$dcsyncran:1%3Bexp-session$tdsyncran:1%3Bexp-session$dc_event:1%3Bexp-session; _px3=9cd39b2b24d143820cc14c813661abad9d222a289d995cd7cee47ae66b361bf1:7l+G2U6wIlf5RWoVsNjWh76ovZ6a+i/PTxq63XtJUB4288ZPohcdD1M7Jxreeu6PWHKk2RwxOu/bTIPnMOkAxA==:1000:/JFnD71W7z1MkByqHUTiDWu37i8FWkUzXT4nYqC0eaIEUklm67DCWY8Rk288HCXZNPISWTSGDVIs6X2hRhHMXuyMsCgQ97GQzgIrZqoemu6p87rV3k47qXmzdSxYlisvSlaY/kARYTLJSUSIwTuZaAF9gIxmps7suUfbdMN4hTL1h6L3zE0DtOykQU+CBSXtfQnKLNCHfxX43fZqF1nZQA==; _cs_id=4b3370e1-1f39-a927-8eb8-cb6d65dcd9ce.1626730196.1.1626730196.1626730196.1.1660894196797.Lax.0; _cs_s=1.1.0.1626731996801; __CT_Data=gpv=1&ckp=tld&dm=zillow.com&apv_82_www33=1&cpv_82_www33=1; AWSALB=nTnBKOWzdIo5upfl8Qf8GDB9014cA5Xy0D3+pQFNTYatXJEQcCYIElhzhD3ykI6mbtARuzCRrYnb99iyjXH6LzHFnXIaLfeQSHGR4ItSYyE0/W7U7rH3TUaSZeht; AWSALBCORS=nTnBKOWzdIo5upfl8Qf8GDB9014cA5Xy0D3+pQFNTYatXJEQcCYIElhzhD3ykI6mbtARuzCRrYnb99iyjXH6LzHFnXIaLfeQSHGR4ItSYyE0/W7U7rH3TUaSZeht; OptanonAlertBoxClosed=2021-07-19T21:29:59.295Z; OptanonConsent=isIABGlobal=false&datestamp=Mon+Jul+19+2021+14%3A29%3A59+GMT-0700+(Pacific+Daylight+Time)&version=5.11.0&landingPath=NotLandingPage&groups=1%3A1%2C3%3A1%2C4%3A1&consentId=f93c1241-2819-4c86-8491-0515afb55b7c',    \n",
    "    'referer': 'https://www.zillow.com/san-francisco-ca/?searchQueryState=%7B%22pagination%22%3A%7B%7D%2C%22usersSearchTerm%22%3A%22san%20francisco%2C%20CA%22%2C%22mapBounds%22%3A%7B%22west%22%3A-122.75399245214844%2C%22east%22%3A-122.28020705175781%2C%22south%22%3A37.53038405238991%2C%22north%22%3A37.90299568470347%7D%2C%22regionSelection%22%3A%5B%7B%22regionId%22%3A20330%2C%22regionType%22%3A6%7D%5D%2C%22isMapVisible%22%3Atrue%2C%22filterState%22%3A%7B%22sort%22%3A%7B%22value%22%3A%22globalrelevanceex%22%7D%2C%22ah%22%3A%7B%22value%22%3Atrue%7D%7D%2C%22isListVisible%22%3Atrue%2C%22mapZoom%22%3A11%7D',\n",
    "    'sec-ch-ua': '\" Not;A Brand\";v=\"99\", \"Google Chrome\";v=\"91\", \"Chromium\";v=\"91\"',\n",
    "    'sec-ch-ua-mobile': '?0',\n",
    "    'sec-fetch-dest': 'document',\n",
    "    'sec-fetch-mode': 'navigate',\n",
    "    'sec-fetch-site': 'same-origin',\n",
    "    'sec-fetch-user': '?1',\n",
    "    'upgrade-insecure-requests': '1',\n",
    "    'user-agent': 'Mo'\n",
    "}\n",
    "params={\"usersSearchTerm\":\"san francisco, CA\",\n",
    "        \"mapBounds\":{\"west\":-122.75399245214844,\n",
    "                     \"east\":-122.28020705175781,\n",
    "                     \"south\":37.53038405238991,\n",
    "                     \"north\":37.90299568470347},\n",
    "        \"mapZoom\":11,\"regionSelection\":[{\"regionId\":20330,\"regionType\":6}],\n",
    "        \"isMapVisible\":'false',\n",
    "        \"filterState\":{\"ah\":{\"value\":'true'},\"sort\":{\"value\":\"globalrelevanceex\"}},\n",
    "        \"isListVisible\":'true',\"category\":\"cat1\"}\n",
    "response=requests.get(url_sf_search, headers=headers, params=params)\n",
    "response\n",
    "```"
   ]
  },
  {
   "cell_type": "markdown",
   "id": "hindu-dairy",
   "metadata": {
    "hidden": true
   },
   "source": [
    "```python \n",
    "%%time\n",
    "content=BeautifulSoup(response.text)\n",
    "deck=content.find('ul', {'class':\"photo-cards photo-cards_wow photo-cards_short photo-cards_extra-attribution\"})\n",
    "deck.find_all('a', {'class': 'list-card-link list-card-link-top-margin list-card-img'})\n",
    "thumbnails=deck.find_all('img')\n",
    "[download_img(X['src'], f\"thumbnail#{i}\") for i, X in enumerate(thumbnails)]\n",
    "```"
   ]
  },
  {
   "cell_type": "markdown",
   "id": "recreational-characterization",
   "metadata": {
    "hidden": true
   },
   "source": [
    "`Image(filename='./capstone_imgs/thumbnail#0.jpg')`"
   ]
  },
  {
   "cell_type": "markdown",
   "id": "smooth-summer",
   "metadata": {
    "hidden": true
   },
   "source": [
    "`url_bathroom_search=urls[5] `"
   ]
  },
  {
   "cell_type": "markdown",
   "id": "pressing-meditation",
   "metadata": {
    "hidden": true
   },
   "source": [
    "```python \n",
    "%%time\n",
    "url_bathroom_search=\"https://duckduckgo.com/?q={}&t=h_&iax=images&ia=images\".format('bathroompictures')\n",
    "headers={\n",
    "    'accept': 'text/html,application/xhtml+xml,application/xml;q=0.9,image/avif,image/webp,image/apng,*/*;q=0.8,application/signed-exchange;v=b3;q=0.9',\n",
    "    'accept-encoding': 'gzip, deflate, br',\n",
    "    'accept-language': 'en-US,en;q=0.9',\n",
    "    'cache-control': 'max-age=0',\n",
    "    'referer': 'https://duckduckgo.com/',\n",
    "    'sec-ch-ua': '\" Not;A Brand\";v=\"99\", \"Google Chrome\";v=\"91\", \"Chromium\";v=\"91\"',\n",
    "    'sec-ch-ua-mobile': '?0',\n",
    "    'sec-fetch-dest': 'document','sec-fetch-mode': 'navigate',\n",
    "    'sec-fetch-site': 'same-origin','sec-fetch-user': '?1',\n",
    "    'upgrade-insecure-requests': '1',\n",
    "    'user-agent': 'Mozilla/5.0 (Macintosh; Intel Mac OS X 10_15_7) AppleWebKit/537.36 (KHTML, like Gecko) Chrome/91.0.4472.114 Safari/537.36'\n",
    "}\n",
    "params={\n",
    "    'q': 'bathroom pictures',\n",
    "    'va': 'b',\n",
    "    't': 'hc',\n",
    "    'iax': 'images',\n",
    "    'ia': 'images'\n",
    "}\n",
    "response=requests.get(url_bathroom_search,headers=headers)\n",
    "response\n",
    "```"
   ]
  },
  {
   "cell_type": "markdown",
   "id": "egyptian-cooper",
   "metadata": {
    "hidden": true
   },
   "source": [
    "```python \n",
    "content=BeautifulSoup(response.text, 'html.parser') \n",
    "# deck=content.find('div',{'class':'zci__main  zci__main--tiles  js-tiles   has-nav tileview__images has-tiles--grid'})\n",
    "# deck.find_all('div', {'class':'tile  tile--img  has-detail'})\n",
    "# print(deck)\n",
    "print(content.prettify())\n",
    "```"
   ]
  },
  {
   "cell_type": "markdown",
   "id": "powerful-dance",
   "metadata": {
    "hidden": true
   },
   "source": [
    "```python \n",
    "# url_google_search=\"https://www.google.com/search?q=bathroom&picturestbm=isch&ved=2ahUKEwiPkIuSivHxAhWeATQIHRX7Dc4Q2-cCegQIABAA&oq=bathroom+pictures&gs_lcp=CgNpbWcQAzIFCAAQsQMyAggAMgIIADICCAAyAggAMgIIADICCAAyAggAMgIIADICCABQ-QFY-QFgyQNoAHAAeACAAY0BiAGNAZIBAzAuMZgBAKABAaoBC2d3cy13aXotaW1nwAEB&sclient=img&ei=93T2YM-4E56D0PEPlfa38Aw&bih=798&biw=1440&hl=en\"\n",
    "url_google_search=\"https://www.google.com/search?site=&tbm=isch&source=hp&biw=1873&bih=990&q=\" + 'bathroom+pictures'\n",
    "headers={\n",
    "'accept': 'text/html,application/xhtml+xml,application/xml;q=0.9,image/avif,image/webp,image/apng,*/*;q=0.8,application/signed-exchange;v=b3;q=0.9',\n",
    "'accept-encoding': 'gzip, deflate, br',\n",
    "'accept-language': 'en-US,en;q=0.9',\n",
    "'cache-control': 'max-age=0',\n",
    "'cookie': 'CGIC=IocBdGV4dC9odG1sLGFwcGxpY2F0aW9uL3hodG1sK3htbCxhcHBsaWNhdGlvbi94bWw7cT0wLjksaW1hZ2UvYXZpZixpbWFnZS93ZWJwLGltYWdlL2FwbmcsKi8qO3E9MC44LGFwcGxpY2F0aW9uL3NpZ25lZC1leGNoYW5nZTt2PWIzO3E9MC45; OTZ=6074342_84_88_104280_84_446940; NID=219=3iI2G9KOUu0UeWJwufF5yp7e_YWy-Jqa4sy6AQBq9A83KkTQi60R5DLh4WIjX5DdL-ySYAthc4Q58RcCsUFFfAESvW5PpbrVaBapJsgu_UguDnOPTFVXCd5zQxj0cPekrFR4UigyfIVR2-xAFjdZA376dkAsnrTvx9AJsJ5vZJE; OGPC=19022591-1:; DV=w-MBoejvLyEj4OgbEydFW6gZm-YrrJeKpsw9cz05QgEAAAA; 1P_JAR=2021-7-20-7',\n",
    "'referer': 'https://www.google.com/',\n",
    "'sec-ch-ua': '\" Not;A Brand\";v=\"99\", \"Google Chrome\";v=\"91\", \"Chromium\";v=\"91\"',\n",
    "'sec-ch-ua-mobile': '?0',\n",
    "'sec-fetch-dest': 'document',\n",
    "'sec-fetch-mode': 'navigate',\n",
    "'sec-fetch-site': 'same-origin',\n",
    "'sec-fetch-user': '?1',\n",
    "'upgrade-insecure-requests': '1',\n",
    "'user-agent': 'Mozilla/5.0 (Macintosh; Intel Mac OS X 10_15_7) AppleWebKit/537.36 (KHTML, like Gecko) Chrome/91.0.4472.114 Safari/537.36'\n",
    "}\n",
    "params={\n",
    "'q': 'bathroom pictures',\n",
    "'hl': 'en',\n",
    "'tbm': 'isch',\n",
    "'source': 'lnms',\n",
    "'sa': 'X',\n",
    "'ved': '0ahUKEwinpbC-i_HxAhXPrJ4KHU5CAGkQ_AUI1gcoAQ',\n",
    "'biw': '1440',\n",
    "'bih': '798'\n",
    "}\n",
    "res=requests.get(url_google_search, headers=headers, params=params)\n",
    "res\n",
    "```"
   ]
  },
  {
   "cell_type": "markdown",
   "id": "important-illinois",
   "metadata": {
    "hidden": true
   },
   "source": [
    "```python\n",
    "content=BeautifulSoup(res.text, 'html.parser') \n",
    "deck=content.find_all('img', {'class':'rg_i Q4LuWd'})\n",
    "# print(content.prettify())\n",
    "deck[0]['src']\n",
    "```"
   ]
  },
  {
   "cell_type": "markdown",
   "id": "extreme-clinic",
   "metadata": {},
   "source": [
    "## Extraction"
   ]
  },
  {
   "cell_type": "markdown",
   "id": "animated-indian",
   "metadata": {},
   "source": [
    "### imgextract class"
   ]
  },
  {
   "cell_type": "code",
   "execution_count": null,
   "id": "checked-wildlife",
   "metadata": {},
   "outputs": [],
   "source": [
    "class ImgExtract:\n",
    "    img_1stpg=(\"https://cdn.aquaticausa.com/cache/images/1280x800a-ffffff/\"\n",
    "               \"aquatica/Aquatica-purescape-171-freestanding-solid-surface-bathtub-02-2-(web).jpg\")\n",
    "    getty=\"https://www.gettyimages.com/photos/bathroom?phrase=bathroom&sort=best\"\n",
    "    search_template=(\"https://www.google.com/search?safe=off&site=&tbm=isch&source=hp&q={q}&oq={q}&gs_l=img\")\n",
    "    def firstpage():\n",
    "        res=requests.get(self.img_1stpg, stream=True)\n",
    "        res.raw.decode_content=True\n",
    "        with open('./capstonedump/example.jpg', 'wb') as fout_: \n",
    "            copyfileobj(res.raw, fout_)\n",
    "    \n",
    "    def decode_base64(in_save, in_encription, **KWARGS):\n",
    "        with open(in_save, 'wb') as outfile_:\n",
    "            stripped=re.sub('data:image/jpeg;base64,', '', in_encription)\n",
    "            \n",
    "            try: \n",
    "                decoded=base64.b64decode((stripped))\n",
    "                \n",
    "            except requests.HTTPError as err: \n",
    "                if err.code == 404: \n",
    "                    pass \n",
    "                \n",
    "            outfile_.write(decoded)\n",
    "            \n",
    "    def decript_gstatic(in_save, in_gstatic):\n",
    "        try: \n",
    "            urlretrieve(in_gstatic, in_save)\n",
    "              \n",
    "        except HTTPError as err: \n",
    "            if err.code == 404: \n",
    "                pass \n",
    "    \n",
    "    def soupextract_allimgs(in_pgsrc): \n",
    "        return [tag[attr]\n",
    "                for attr \n",
    "                in ['src', 'data-src']\n",
    "                for tag \n",
    "                in BeautifulSoup(in_pgsrc, 'lxml')\n",
    "                    .body\n",
    "                    .find_all('div', {'class': 'OcgH4b'})[0] \n",
    "                    .find_all('img', {attr: True, 'class': 'rg_i Q4LuWd'})]\n",
    "\n",
    "    def download_allgstatics(in_links, in_template=\"./capstonedump/gstatics{}.jpg\"):\n",
    "        [ImgExtract \n",
    "         .decript_gstatic(in_template.format(i), hlink) \n",
    "         for i, hlink  \n",
    "         in enumerate(gstatics)]\n",
    "        \n",
    "    def download_allbase64(in_base64, in_template):\n",
    "        [(ImgExtract\n",
    "            .decode_base64(\n",
    "                template.format(i), \n",
    "                in_base64[i]))\n",
    "         for i \n",
    "         in range(len(in_base64))]\n",
    "    \n",
    "    def click_button(in_drver):\n",
    "        try:\n",
    "            (WebDriverWait(in_drver, 10)\n",
    "             .until(expected_conditions\n",
    "                    .element_to_be_clickable(\n",
    "                        (By.CSS_SELECTOR, \n",
    "                        \"input[type='button']\")))\n",
    "             .click())\n",
    "        except TimeoutException as ex: \n",
    "            pass \n",
    "    \n",
    "    def wait_and_scroll(in_drver):\n",
    "        sleep(7)\n",
    "        in_drver.execute_script(\"window.scrollTo(0, document.body.scrollHeight)\")\n",
    "    \n",
    "    def search_download(in_drver, in_search='living room'): \n",
    "        in_drver.get(\n",
    "            ImgExtract.search_template.format(q=in_search))\n",
    "        [ImgExtract.wait_and_scroll(in_drver) for i in range(7)]\n",
    "        ImgExtract.click_button(in_drver)\n",
    "        [ImgExtract.wait_and_scroll(in_drver) for i in range(7)]\n",
    "        return in_drver"
   ]
  },
  {
   "cell_type": "markdown",
   "id": "guilty-flooring",
   "metadata": {
    "heading_collapsed": true
   },
   "source": [
    "#### notes"
   ]
  },
  {
   "cell_type": "markdown",
   "id": "preliminary-summer",
   "metadata": {
    "hidden": true
   },
   "source": [
    "```\n",
    "(len(soup.body.find_all('img', {'class': 'rg_i Q4LuWd'}))  \n",
    " + len(soup.body.find_all('img', {'class': 's0Fsx'})))\n",
    " \n",
    " 844 total 793\n",
    " 1min 56s 760 gstatics\n",
    " ```"
   ]
  },
  {
   "cell_type": "markdown",
   "id": "detailed-military",
   "metadata": {
    "hidden": true
   },
   "source": [
    "```python\n",
    "CATEGORY='beautiful bathroom'\n",
    "url=(\"https://www.google.com/search?safe=off&site=&tbm=isch&source=hp&q={q}&oq={q}&gs_l=img\" \n",
    "     .format(q=CATEGORY))\n",
    "browser.get(url)\n",
    "# browser.execute_script(\"window.scrollTo(0,1e39);\")\n",
    "```"
   ]
  },
  {
   "cell_type": "markdown",
   "id": "invalid-lender",
   "metadata": {
    "hidden": true
   },
   "source": [
    "```python \n",
    "allsrc=ImgExtract.soupextract_allimgs(browser.page_source)\n",
    "dill.dump(allsrc, open('./capstonedump/allsrc.pkd', 'wb'))\n",
    "```"
   ]
  },
  {
   "cell_type": "markdown",
   "id": "similar-oklahoma",
   "metadata": {
    "hidden": true
   },
   "source": [
    "```python\n",
    "allsrc=dill.load(open('./capstonedump/allsrc.pkd', 'rb'))\n",
    "srclinksdf=pd.Series(allsrc, dtype='string') \n",
    "srclinksdf.size\n",
    "gstatics=ImgExtract.filter_gstatic(srclinksdf).tolist()\n",
    "```"
   ]
  },
  {
   "cell_type": "markdown",
   "id": "infrared-produce",
   "metadata": {
    "hidden": true
   },
   "source": [
    "```python \n",
    "%%time\n",
    "(ImgExtract \n",
    " .download_allgstatics(gstatics,  \n",
    "                       in_template=f\"./capstonedump/gstatics-{CATEGORY}\"+\"-{}.jpg\"))\n",
    "```"
   ]
  },
  {
   "cell_type": "markdown",
   "id": "binding-sarah",
   "metadata": {
    "hidden": true
   },
   "source": [
    "```python\n",
    "allbase64 = ImgExtract.filter_base64(srclinksdf)\n",
    "template=f\"./capstonedump/base64-{CATEGORY}\"+\"-{}.jpeg\"\n",
    "```"
   ]
  },
  {
   "cell_type": "markdown",
   "id": "ready-hampshire",
   "metadata": {},
   "source": [
    "## Processing main"
   ]
  },
  {
   "cell_type": "markdown",
   "id": "meaningful-georgia",
   "metadata": {},
   "source": [
    "### clean"
   ]
  },
  {
   "cell_type": "code",
   "execution_count": null,
   "id": "right-latin",
   "metadata": {},
   "outputs": [],
   "source": [
    "class ImgPrep:\n",
    "    def decode_base64(in_save, in_encription):\n",
    "            with open(in_save, 'wb') as outfile_:\n",
    "                stripped=re.sub('data:image/jpeg;base64,', '', in_encription)\n",
    "                decoded=base64.b64decode((stripped))\n",
    "                outfile_.write(decoded) \n",
    "\n",
    "    def download(in_imglinks,  \n",
    "                 in_category,  \n",
    "                 in_photo_savepath):\n",
    "        base64_save=f\"{in_photo_savepath}/base64-{in_category}\"+\"-{}.jpeg\"\n",
    "        gstatic_save=f\"{in_photo_savepath}/gstatic-{in_category}\"+\"-{}.jpg\"\n",
    "\n",
    "        [ImgPrep\n",
    "             .decode_base64(base64_save \n",
    "                                .format(index),  \n",
    "                            unit)\n",
    "         if \"data:image/jpeg;base64,/9j\"  \n",
    "         in unit \n",
    "         else urlretrieve(unit,  \n",
    "                          gstatic_save \n",
    "                              .format(index))\n",
    "         for index, unit \n",
    "         in enumerate(luxlinks)]\n",
    "    \n",
    "    def label_from_file(in_file):\n",
    "        pass"
   ]
  },
  {
   "cell_type": "markdown",
   "id": "certified-spending",
   "metadata": {
    "heading_collapsed": true
   },
   "source": [
    "### decoder"
   ]
  },
  {
   "cell_type": "code",
   "execution_count": null,
   "id": "public-congo",
   "metadata": {
    "hidden": true
   },
   "outputs": [],
   "source": [
    "class ImgDecoder: \n",
    "    def make_diretories():\n",
    "        pass \n",
    "    def links_in_classes():\n",
    "        return [(dill.load(open(f\"{CORE_SAVEDIR}{file}\",  \n",
    "                                \"rb\")),  \n",
    "                 ImgPrep.label_from_file(file))\n",
    "                    for file  \n",
    "                    in os.listdir(CORE_SAVEDIR) \n",
    "                    if file.startswith(\"allsrc\")  \n",
    "                        and file.endswith(\".pkd\")]\n",
    "    \n",
    "    def decode_from_links():\n",
    "        [ImgPrep.decode_base64(f\"{PHOTO_SAVEDIR}{label}/{index}.jpeg\", unit)\n",
    "            if \"data:image/jpeg;base64,/9j\" \n",
    "            in unit\n",
    "            else urlretrieve(unit, f\"{PHOTO_SAVEDIR}{label}/{index}.jpg\")\n",
    "            for links, label  \n",
    "            in ImgDecoder.links_in_classes()\n",
    "            for index, unit  \n",
    "            in enumerate(links)]\n",
    "    \n",
    "    def run():\n",
    "        ImgDecoder.make_diretories()\n",
    "        ImgDecoder.decode_from_links()"
   ]
  },
  {
   "cell_type": "markdown",
   "id": "absent-salad",
   "metadata": {},
   "source": [
    "## "
   ]
  },
  {
   "cell_type": "code",
   "execution_count": null,
   "id": "offshore-bridges",
   "metadata": {},
   "outputs": [],
   "source": [
    "def scrape_image_links(in_searches_and_labels=LABELS):\n",
    "    for search_term, class_label in in_searches_and_labels.items():\n",
    "        driver_=(ImgExtract\n",
    "                 .search_download(\n",
    "                     browser, \n",
    "                     in_search=search_term))\n",
    "        source_links_=(ImgExtract\n",
    "                       .soupextract_allimgs(\n",
    "                           driver_.page_source))\n",
    "        file_name=re.sub(r\"\\.| |\\:\", \"-\", search_term)\n",
    "        print(file_name)\n",
    "        dill.dump(source_links_, \n",
    "                  open(f\"{LINK_DUMPATH}/{class_label}/{file_name}.pkd\", \"wb\"))"
   ]
  },
  {
   "cell_type": "code",
   "execution_count": null,
   "id": "architectural-plaintiff",
   "metadata": {},
   "outputs": [],
   "source": [
    "%%time\n",
    "captured=[os.remove(f\"{LINK_DUMPATH}/{i}/{file}\") \n",
    " for i in range(3) \n",
    " for file in os.listdir(f\"{LINK_DUMPATH}/{i}/\")] \n",
    "len(captured)\n",
    "scrape_image_links()\n"
   ]
  },
  {
   "cell_type": "markdown",
   "id": "quarterly-caution",
   "metadata": {},
   "source": [
    "```python\n",
    "browser.get(\n",
    "    ImgExtract\n",
    "    .search_template.format(q= \"dirty apartment kitchen\"))\n",
    "```"
   ]
  },
  {
   "cell_type": "markdown",
   "id": "instructional-labor",
   "metadata": {},
   "source": [
    "```python\n",
    "[os.remove(f\"{LINK_DUMPATH}/{i}/{file}\") for i in range(3) for file in os.listdir(f\"{LINK_DUMPATH}/{i}/\")] \n",
    "```"
   ]
  },
  {
   "cell_type": "code",
   "execution_count": null,
   "id": "statewide-township",
   "metadata": {},
   "outputs": [],
   "source": [
    "[file\n",
    " for label in range(3)  \n",
    " for file in os.listdir(f\"{LINK_DUMPATH}/{label}\")]"
   ]
  },
  {
   "cell_type": "code",
   "execution_count": null,
   "id": "wrong-excuse",
   "metadata": {},
   "outputs": [],
   "source": [
    "bunch_links_label_searchterm=[\n",
    "    (dill.load(open(f\"{LINK_DUMPATH}/{label}/{file}\", \"rb\")),  \n",
    "     (label, re.sub(r\"\\.pkd\", \"\", file))) \n",
    "          for label in range(N_CLASSES)\n",
    "          for file in os.listdir(f\"{LINK_DUMPATH}/{label}/\")]"
   ]
  },
  {
   "cell_type": "code",
   "execution_count": null,
   "id": "representative-toner",
   "metadata": {},
   "outputs": [],
   "source": [
    "captured=[os.remove(f\"{PHOTO_DUMPATH}/{i}/{file}\") \n",
    " for i in range(3) \n",
    " for file in os.listdir(f\"{PHOTO_DUMPATH}/{i}/\")] \n",
    "len(captured)"
   ]
  },
  {
   "cell_type": "code",
   "execution_count": null,
   "id": "derived-going",
   "metadata": {},
   "outputs": [],
   "source": [
    "%%time\n",
    "for links, label_searchterm in bunch_links_label_searchterm:\n",
    "    label, searchterm= label_searchterm \n",
    "    print(label_searchterm)\n",
    "    for index, source in enumerate(links):\n",
    "        if \"data:image/jpeg;base64,\" in source:\n",
    "            ImgExtract.decode_base64(f\"{PHOTO_DUMPATH}/{label}/{index}-{searchterm}-base64.jpeg\", source)\n",
    "        else:\n",
    "            ImgExtract.decript_gstatic(f\"{PHOTO_DUMPATH}/{label}/{index}-{searchterm}-gstatic.jpg\", source)"
   ]
  },
  {
   "cell_type": "markdown",
   "id": "stupid-pendant",
   "metadata": {},
   "source": [
    "```\n",
    "involves people && text (taking up too much frame)\n",
    "not kitchen\n",
    "cartoon & illustration\n",
    "```"
   ]
  },
  {
   "cell_type": "code",
   "execution_count": null,
   "id": "experienced-inventory",
   "metadata": {},
   "outputs": [],
   "source": [
    "for label in range(3):\n",
    "    print(len(os.listdir(f\"{PHOTO_DUMPATH}/{label}\")))"
   ]
  },
  {
   "cell_type": "markdown",
   "id": "civic-jamaica",
   "metadata": {
    "heading_collapsed": true
   },
   "source": [
    "## Scrape Zillow SF listings"
   ]
  },
  {
   "cell_type": "code",
   "execution_count": null,
   "id": "enormous-syndrome",
   "metadata": {
    "hidden": true
   },
   "outputs": [],
   "source": [
    "class PropertyListing:\n",
    "    SEARCH_TERM=\"San Francisco for sale\"\n",
    "    zillow_path=\"https://zillow.com\"\n",
    "    def extract_album(in_driver, \n",
    "                      in_search_term):\n",
    "        in_driver.get(ImgExtract.search_template.format(q=in_search_term))\n",
    "        for i in range(3):\n",
    "            browser.execute_script(\"window.scrollTo(0, document.body.scrollHeight)\")\n",
    "            sleep(5)\n",
    "        page=BeautifulSoup(in_driver.page_source, \n",
    "                           'lxml')\n",
    "        album=(page\n",
    "               .body\n",
    "               .find_all(\"div\", \n",
    "                         {\"class\": \n",
    "                          \"isv-r PNCib MSM1fd BUooTd\"}))\n",
    "        return album\n",
    "\n",
    "    def capture_listing_link_and_image(in_listing_address, \n",
    "                                       in_album):\n",
    "        property_pic=[pic \n",
    "                      for pic in in_album\n",
    "                      if in_listing_address in str(pic)][0]\n",
    "        property_link=property_pic.find(\"a\", href=True)['href']\n",
    "        try:\n",
    "            property_img=property_pic.find(\"img\", src=True)['src']\n",
    "        except TypeError: \n",
    "            property_img=None\n",
    "        return in_listing_address, (property_link, property_img)\n",
    "    def extract_content(in_driver, in_address):\n",
    "        print(in_address)\n",
    "        sleep(5)\n",
    "        in_driver.get(\"https://www.zillow.com/homes\") \n",
    "        searchbox=(WebDriverWait(in_driver, 10)\n",
    "                   .until(expected_conditions\n",
    "                          .element_to_be_clickable(\n",
    "                              (By.CSS_SELECTOR, \n",
    "             \"input[placeholder='Address, neighborhood, or ZIP']\"))))\n",
    "\n",
    "        for clicks in range(20):\n",
    "            searchbox.send_keys(Keys.BACK_SPACE)\n",
    "            sleep(1)\n",
    "        searchbox.send_keys(in_address)\n",
    "        sleep(2)\n",
    "        searchbox.send_keys(Keys.ENTER)\n",
    "        sleep(5)\n",
    "        content = (BeautifulSoup(in_driver.page_source, 'lxml').body)\n",
    "        return in_address, content"
   ]
  },
  {
   "cell_type": "markdown",
   "id": "embedded-bible",
   "metadata": {
    "hidden": true
   },
   "source": [
    "```python \n",
    "%%capture\n",
    "LISTINGS=[\n",
    "    (\"dilapidated kitchen san francisco for sale after:2021-06-01 site:Zillow.com\",\n",
    "        (\"8420 Birch St, Oakland, CA 94621\",\n",
    "         \"1326 Diamond St, San Francisco, CA 94131\",\n",
    "         \"815 Pacheco St, San Francisco, CA 94116\") \n",
    "    ),\n",
    "    (\"dirty kitchen san francisco for sale after:2021-06-01 site:Zillow.com\",\n",
    "        (\"851 34th Ave, Oakland, CA 94601\",\n",
    "         \"6424 Foothill Blvd, Oakland, CA 94605\",\n",
    "         \"1370 Quesada Ave, San Francisco, CA 94124\" \n",
    "         )\n",
    "    ),\n",
    "    (\"small kitchen san francisco for sale after:2021-08-01 site:zillow.com\",\n",
    "        (\n",
    "#             \"1546 46th Ave, San Francisco, CA 94122\",\n",
    "#          \"2878 Sacramento St APT 6, San Francisco, CA 94115\",\n",
    "         \"181 Lucky St, San Francisco, CA 94110\",\n",
    "         \"353 San Jose Ave, San Francisco, CA 94110\",\n",
    "         \"1238 Sutter St #501, San Francisco, CA 94109\",\n",
    "         \"62 Natick St, San Francisco, CA 94131\",\n",
    "         \"635 Joost Ave, San Francisco, CA 94127\"\n",
    "        ) \n",
    "    ),\n",
    "     (\"large kitchen san francisco for sale after:2021-08-01 site:zillow.com\",\n",
    "        (\"1311 Guerrero St APT 1, San Francisco, CA 94110\",\n",
    "         \"62 Natick St, San Francisco, CA 94131\",\n",
    "         \"1933 B Jones St, San Francisco, CA 94133\",\n",
    "         \"708 Long Bridge St APT 110, San Francisco, CA 94158\",\n",
    "         \"101 Upper Ter, San Francisco, CA 94117\"\n",
    "        )\n",
    "    )\n",
    "]\n",
    "```"
   ]
  },
  {
   "cell_type": "code",
   "execution_count": null,
   "id": "descending-broadway",
   "metadata": {
    "hidden": true
   },
   "outputs": [],
   "source": [
    "browser.get(PropertyListing.zillow_path)\n",
    "sleep(7)\n",
    "\n",
    "matching_listings=[]\n",
    "for search in LISTINGS:\n",
    "    album=PropertyListing.extract_album(browser, search[0])\n",
    "    for address in search[1]:\n",
    "        print(address)\n",
    "        c_=PropertyListing.capture_listing_link_and_image(address, album) \n",
    "        matching_listings.append(c_)\n",
    "        \n",
    "listing_profiles=[]\n",
    "listing_imgs=[]\n",
    "for listing in matching_listings:\n",
    "    addr, link_img= listing\n",
    "    link, img= link_img \n",
    "    listing_imgs=(addr, img)\n",
    "    \n",
    "    content=(BeautifulSoup(requests.get(link).text, 'lxml').body)\n",
    "    listing_profiles=(addr, content)\n",
    "    sleep(4)"
   ]
  },
  {
   "cell_type": "markdown",
   "id": "unexpected-quest",
   "metadata": {
    "hidden": true
   },
   "source": [
    "```python \n",
    "listing_contents = [PropertyListing.extract_content(browser, unit[0])\n",
    "                    for unit in matching_listings[10:]\n",
    "                   ]\n",
    "dill.dump([(unit[0], unit[1].text) for unit in listing_contents], \n",
    "          open(f\"{DEMO_LISTINGS_DUMPATH}/listing_contents1.pkd\", \n",
    "               \"wb\"))\n",
    "```"
   ]
  },
  {
   "cell_type": "markdown",
   "id": "sunset-pitch",
   "metadata": {
    "hidden": true
   },
   "source": [
    "```python \n",
    "loaded_contents=[\n",
    "    dill.load(open(f\"{DEMO_LISTINGS_DUMPATH}/listing_contents{i}.pkd\", \n",
    "                   \"rb\"))\n",
    "    for i in range(2)]\n",
    "unwind_contents= list(chain(*loaded_contents))\n",
    "addr_img=[(unit[0], unit[1][1]) for unit in matching_listings]\n",
    "dill.dump(addr_img, open(f\"{DEMO_LISTINGS_DUMPATH}/listing_images.pkd\", \"wb\"))\n",
    "```"
   ]
  },
  {
   "cell_type": "markdown",
   "id": "sized-sandwich",
   "metadata": {
    "heading_collapsed": true
   },
   "source": [
    "## Extract Property Profile "
   ]
  },
  {
   "cell_type": "markdown",
   "id": "continent-complaint",
   "metadata": {
    "hidden": true
   },
   "source": [
    "```\n",
    "1. extract property profiles from listing_contents (address, profile)\n",
    "2. download property kitchen-images from listing_images (address, image)\n",
    "3. use model B5 + trained-softmax to predict kitchen tags\n",
    "4. flask iteractive map...\n",
    "```"
   ]
  },
  {
   "cell_type": "code",
   "execution_count": null,
   "id": "terminal-figure",
   "metadata": {
    "hidden": true
   },
   "outputs": [],
   "source": [
    "with open(f\"{DEMO_LISTINGS_DUMPATH}/listing_images.pkd\", \"wb\") as writefile:\n",
    "    dill.dump(addr_img, writefile)\n",
    "with open(f\"{DEMO_LISTINGS_DUMPATH}/listing_images.pkd\", \"rb\") as readfile:\n",
    "    loaded=dill.load(readfile)"
   ]
  },
  {
   "cell_type": "code",
   "execution_count": null,
   "id": "fancy-nudist",
   "metadata": {
    "hidden": true,
    "scrolled": true
   },
   "outputs": [],
   "source": [
    "dill.load(open(f\"{DEMO_LISTINGS_DUMPATH}/listing_images.pkd\", \"rb\"))[0][1]"
   ]
  },
  {
   "cell_type": "code",
   "execution_count": null,
   "id": "spread-storm",
   "metadata": {
    "hidden": true
   },
   "outputs": [],
   "source": [
    "%%time\n",
    "for address, source in dill.load(open(f\"{DEMO_LISTINGS_DUMPATH}/listing_images.pkd\", \"rb\")):\n",
    "    processed_address=re.sub(\" \", \"-\", address.split(\",\")[0])\n",
    "    if \"data:image/jpeg;base64,/9j/\" in source: \n",
    "        ImgExtract.decode_base64(\"{}/images/{}-kitchen.jpeg\"\n",
    "                                 .format(DEMO_LISTINGS_DUMPATH, processed_address), \n",
    "                                 source)\n",
    "    else:\n",
    "        ImgExtract.decript_gstatic(\"{}/images/{}-kitchen.jpg\"\n",
    "                                   .format(DEMO_LISTINGS_DUMPATH, processed_address), \n",
    "                                   source)"
   ]
  },
  {
   "cell_type": "code",
   "execution_count": null,
   "id": "oriented-fields",
   "metadata": {
    "hidden": true
   },
   "outputs": [],
   "source": [
    "Counter([address for category in LISTINGS for address in category[1]])"
   ]
  },
  {
   "cell_type": "markdown",
   "id": "competent-progressive",
   "metadata": {},
   "source": [
    "## scrape google zillow ca only "
   ]
  },
  {
   "cell_type": "code",
   "execution_count": null,
   "id": "enormous-lobby",
   "metadata": {},
   "outputs": [],
   "source": [
    "def get_image_modules(in_search_term):\n",
    "    MODULE_CLASS=\"isv-r PNCib MSM1fd BUooTd\"\n",
    "    browser.get(ImgExtract.search_template.format(q=in_search_term))\n",
    "    sleep(7)\n",
    "    browser.execute_script(\"window.scrollTo(0, document.body.scrollHeight)\")\n",
    "    sleep(7)\n",
    "    google_image_page=BeautifulSoup(browser.page_source, 'lxml')\n",
    "    all_image_modules=google_image_page.body.find_all(\"div\", {\"class\": MODULE_CLASS})\n",
    "    return [block for block in all_image_modules]"
   ]
  },
  {
   "cell_type": "code",
   "execution_count": null,
   "id": "rough-orchestra",
   "metadata": {},
   "outputs": [],
   "source": [
    "def extract_address_image(in_image_module):\n",
    "    TITLE_CLASS=\"VFACy kGQAp sMi44c lNHeqe WGvvNb\"\n",
    "    title = in_image_module.find_all(\"a\", {\"class\":TITLE_CLASS}, title=True)[0][\"title\"]\n",
    "    image_finding = in_image_module.find(\"img\", src=True) \n",
    "    try:\n",
    "        image_encription=image_finding[\"src\"]\n",
    "    except TypeError:\n",
    "        image_encription = None\n",
    "    if image_encription:\n",
    "        cleaned=re.sub(r\"(?i)\\||zillow\", \"\", title).strip()\n",
    "        address= cleaned if \", CA\" in cleaned else None\n",
    "        return address, image_encription"
   ]
  },
  {
   "cell_type": "code",
   "execution_count": null,
   "id": "interpreted-trace",
   "metadata": {},
   "outputs": [],
   "source": [
    "LISTING_SEARCHTERMS=[\n",
    "    'disrepair kitchen \"CA\" site:zillow.com',\n",
    "    'old broken kitchen \"CA\" site:Redfin.com',\n",
    "    'dilapidated kitchen \"CA\" site:zillow.com',\n",
    "    'dirty kitchen \"CA\" site:zillow.com',\n",
    "    'abandoned dirty kitchen \"CA\" site:zillow.com',\n",
    "    'small messy kitchen \"CA\" site:zillow.com',\n",
    "\n",
    "    'cheap condo kitchen \"CA\" site:zillow.com',\n",
    "    'cheap apartment kitchen \"CA\" site:zillow.com',\n",
    "    'motel kitchen \"CA\" site:zillow.com',\n",
    "\n",
    "    'luxurious kitchen \"CA\" site:zillow.com',\n",
    "    'expensive kitchen \"CA\" site:zillow.com',\n",
    "    'mansion kitchen \"CA\" site:zillow.com']\n",
    "\n",
    "LISTING_SEARCHTERMS_TESTING=[ \n",
    "    'motel kitchen \"CA\" site:zillow.com',\n",
    "    'luxurious kitchen \"CA\" site:zillow.com'\n",
    "]"
   ]
  },
  {
   "cell_type": "code",
   "execution_count": null,
   "id": "flexible-shepherd",
   "metadata": {},
   "outputs": [],
   "source": [
    "shutil.rmtree(DEMO_LISTINGS_DUMPATH) \n",
    "os.mkdir(DEMO_LISTINGS_DUMPATH)\n",
    "all_listings=[]\n",
    "for index, phrase in enumerate(LISTING_SEARCHTERMS):\n",
    "    print(phrase)\n",
    "    image_modules=get_image_modules(phrase)\n",
    "    addresses_and_images=[extract_address_image(unit) \n",
    "                          for unit \n",
    "                          in image_modules]\n",
    "    addresses_and_images = [file \n",
    "                            for file \n",
    "                            in addresses_and_images if file]\n",
    "    print(len(addresses_and_images))\n",
    "    all_listings.extend(addresses_and_images)\n",
    "len(set(all_listings))"
   ]
  },
  {
   "cell_type": "code",
   "execution_count": null,
   "id": "inside-feeding",
   "metadata": {},
   "outputs": [],
   "source": [
    "with open(f\"{DEMO_LISTINGS_DUMPATH}/full-listings.pkd\", \"wb\") as writefile:\n",
    "    dill.dump(all_listings, writefile)\n",
    "[\n",
    "    os.remove(f\"{DEMO_LISTINGS_DUMPATH}/{file}\")\n",
    "    for file in os.listdir(DEMO_LISTINGS_DUMPATH)\n",
    "    if \"listing-addresses-and-images\" in file \n",
    "]"
   ]
  },
  {
   "cell_type": "code",
   "execution_count": null,
   "id": "norwegian-anthropology",
   "metadata": {},
   "outputs": [],
   "source": [
    "try:\n",
    "    os.remove(f\"{DEMO_LISTINGS_DUMPATH}/address_index.pkd\")\n",
    "except FileNotFoundError:\n",
    "    pass\n",
    "try: \n",
    "    shutil.rmtree(f\"{DEMO_LISTINGS_DUMPATH}/downloads\")\n",
    "except FileNotFoundError:\n",
    "    pass\n",
    "os.mkdir(f\"{DEMO_LISTINGS_DUMPATH}/downloads\")\n",
    "\n",
    "with open(f\"{DEMO_LISTINGS_DUMPATH}/full-listings.pkd\", \"rb\") as readfile:\n",
    "    full_listings=dill.load(readfile)\n",
    "    \n",
    "addr_directories=[]\n",
    "for index, address_encription in enumerate(full_listings):\n",
    "    address, encription=address_encription\n",
    "    downloaded=(ImgExtract.decode_base64(f\"{DEMO_LISTINGS_DUMPATH}/downloads/{index}.jpeg\",\n",
    "                                         encription) \n",
    "                if \"data:image/jpeg;base64\" in encription \n",
    "                else urlretrieve(encription, \n",
    "                                 filename=f\"{DEMO_LISTINGS_DUMPATH}/downloads/{index}.jpg\"))\n",
    "    \n",
    "    addr_directories.append((index, address))\n",
    "    \n",
    "with open(f\"{DEMO_LISTINGS_DUMPATH}/downloads/address_index.pkd\", \"wb\") as writefile:\n",
    "    dill.dump(addr_directories, writefile)"
   ]
  },
  {
   "cell_type": "code",
   "execution_count": null,
   "id": "funded-raise",
   "metadata": {},
   "outputs": [],
   "source": [
    "len([file[0] for file in all_listings if not file[0]])"
   ]
  },
  {
   "cell_type": "code",
   "execution_count": null,
   "id": "mineral-pipeline",
   "metadata": {},
   "outputs": [],
   "source": [
    "! cd /Users/jhshi/MyJupyterProjs/capstonedump/demo-listings \n",
    "! ls /Users/jhshi/MyJupyterProjs/capstonedump/demo-listings \n",
    "! tar -czvf addresses-and-images.tar.gz ./downloads -C ."
   ]
  }
 ],
 "metadata": {
  "kernelspec": {
   "display_name": "Python 3",
   "language": "python",
   "name": "python3"
  },
  "language_info": {
   "codemirror_mode": {
    "name": "ipython",
    "version": 3
   },
   "file_extension": ".py",
   "mimetype": "text/x-python",
   "name": "python",
   "nbconvert_exporter": "python",
   "pygments_lexer": "ipython3",
   "version": "3.8.5"
  },
  "widgets": {
   "application/vnd.jupyter.widget-state+json": {
    "state": {},
    "version_major": 2,
    "version_minor": 0
   }
  }
 },
 "nbformat": 4,
 "nbformat_minor": 5
}
