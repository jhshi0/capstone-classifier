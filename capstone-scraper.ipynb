{
 "cells": [
  {
   "cell_type": "code",
   "execution_count": 47,
   "id": "drawn-youth",
   "metadata": {},
   "outputs": [],
   "source": [
    "import re\n",
    "import requests\n",
    "import shutil \n",
    "import os\n",
    "import io\n",
    "import wget\n",
    "import selenium\n",
    "import base64\n",
    "import lxml\n",
    "import dill\n",
    "import pandas as pd\n",
    "import gzip\n",
    "import numpy as np\n",
    "\n",
    "from collections import Counter\n",
    "from matplotlib import image\n",
    "from urllib.request import urlretrieve \n",
    "from selenium.common.exceptions import TimeoutException\n",
    "from bs4 import BeautifulSoup\n",
    "from IPython.display import Image\n",
    "from selenium import webdriver \n",
    "from selenium.webdriver.support.ui import WebDriverWait\n",
    "from selenium.webdriver.support import expected_conditions\n",
    "from selenium.webdriver.common.by import By \n",
    "from selenium.webdriver.common.keys import Keys\n",
    "from chromedriver_py import binary_path\n",
    "from pathlib import Path \n",
    "from shutil import copyfileobj\n",
    "from itertools import chain\n",
    "from time import sleep\n",
    "from urllib.error import HTTPError"
   ]
  },
  {
   "cell_type": "code",
   "execution_count": 48,
   "id": "searching-huntington",
   "metadata": {},
   "outputs": [],
   "source": [
    "pd.set_option('display.max_colwidth', None)"
   ]
  },
  {
   "cell_type": "code",
   "execution_count": 49,
   "id": "material-taiwan",
   "metadata": {},
   "outputs": [],
   "source": [
    "browser=webdriver.Chrome(executable_path=binary_path)"
   ]
  },
  {
   "cell_type": "code",
   "execution_count": 50,
   "id": "cardiac-oklahoma",
   "metadata": {},
   "outputs": [],
   "source": [
    "IMG_SIZE=(224,)\n",
    "LABELS={ \n",
    "#zillow\n",
    "\"disrepair kitchen site:zillow.com\":0,\n",
    "\"old broken kitchen site:Redfin.com\":0,\n",
    "\"dilapidated kitchen site:zillow.com\":0,\n",
    "\"dirty kitchen site:zillow.com\":0,\n",
    "\"abandoned dirty kitchen site:zillow.com\":0,\n",
    "\"small messy kitchen site:zillow.com\":0,\n",
    "\n",
    "\"cheap condo kitchen site:zillow.com\":1,\n",
    "\"cheap apartment kitchen site:zillow.com\":1,\n",
    "\"motel kitchen site:zillow.com\":1,\n",
    "\n",
    "\"luxurious kitchen site:zillow.com\":2,\n",
    "\"expensive kitchen site:zillow.com\":2,\n",
    "\"mansion kitchen site:zillow.com\":2,\n",
    "}\n",
    "N_CLASSES=3\n",
    "MAIN_DUMPATH= \"./capstonedump\"\n",
    "PHOTO_DUMPATH=\"./capstonedump/photos\"\n",
    "LINK_DUMPATH=\"./capstonedump/links\"\n",
    "DEMO_LISTINGS_DUMPATH=f\"{MAIN_DUMPATH}/demo-listings\""
   ]
  },
  {
   "cell_type": "markdown",
   "id": "spanish-stand",
   "metadata": {
    "heading_collapsed": true
   },
   "source": [
    "#### notes"
   ]
  },
  {
   "cell_type": "markdown",
   "id": "excited-checkout",
   "metadata": {
    "hidden": true
   },
   "source": [
    "```python\n",
    "LABELS={ \n",
    "#zillow\n",
    "\"disrepair kitchen site:zillow.com\":0,\n",
    "\"old broken kitchen site:Redfin.com\":0,\n",
    "\"dilapidated kitchen site:zillow.com\":0,\n",
    "\"dirty kitchen site:zillow.com\":0,\n",
    "\"abandoned dirty kitchen site:zillow.com\":0,\n",
    "\"small messy kitchen site:zillow.com\":0,\n",
    "\n",
    "\"cheap condo kitchen site:zillow.com\":1,\n",
    "\"cheap apartment kitchen site:zillow.com\":1,\n",
    "\"motel kitchen site:zillow.com\":1,\n",
    "\n",
    "\"luxurious kitchen site:zillow.com\":2,\n",
    "\"expensive kitchen site:zillow.com\":2,\n",
    "\"mansion kitchen site:zillow.com\":2,\n",
    "    \n",
    "#redfin\n",
    "\"disrepair kitchen site:Redfin.com\":0,\n",
    "\"old broken kitchen site:Redfin.com\":0,\n",
    "\"dilapidated kitchen site:Redfin.com\":0,\n",
    "\"dirty kitchen site:Redfin.com\":0,\n",
    "\"abandoned dirty kitchen site:Redfin.com\":0,\n",
    "\n",
    "\"cheap condo kitchen site:Redfin.com\":1,\n",
    "\"cheap apartment kitchen site:Redfin.com\":1,\n",
    "\"motel kitchen site:Redfin.com\":1,\n",
    "\n",
    "\"luxurious kitchen site:Redfin.com\":2,\n",
    "\"expensive kitchen site:Redfin.com\":2,\n",
    "\"mansion kitchen site:Redfin.com\":2,\n",
    "  \n",
    "#Realtor    \n",
    "\"disrepair kitchen site:Realtor.com\":0,\n",
    "\"old broken kitchen site:Realtor.com\":0,\n",
    "\"dilapidated kitchen site:Realtor.com\":0,\n",
    "\"dirty kitchen site:Realtor.com\":0,\n",
    "\n",
    "\"cheap condo kitchen site:Realtor.com\":1,\n",
    "\"cheap apartment kitchen site:Realtor.com\":1,\n",
    "\"motel kitchen site:Realtor.com\":1,\n",
    "\n",
    "\"luxurious kitchen site:Realtor.com\":2,\n",
    "\"expensive kitchen site:Realtor.com\":2,\n",
    "\"mansion kitchen site:Realtor.com\":2,\n",
    "    \n",
    "#Trulia\n",
    "\"disrepair kitchen site:Trulia.com\":0,\n",
    "\"old broken kitchen site:Trulia.com\":0,\n",
    "\"dilapidated kitchen site:Trulia.com\":0,\n",
    "\"dirty kitchen site:Trulia.com\":0,\n",
    "\n",
    "\"cheap condo kitchen site:Trulia.com\":1,\n",
    "\"cheap apartment kitchen site:Trulia.com\":1,\n",
    "\"motel kitchen site:Trulia.com\":1,\n",
    "\n",
    "\"luxurious kitchen site:Trulia.com\":2,\n",
    "\"expensive kitchen site:Trulia.com\":2,\n",
    "\"mansion kitchen site:Trulia.com\":2,\n",
    "\n",
    "#homefinder\n",
    "\"disrepair kitchen site:HomeFinder.com\":0,\n",
    "\"old broken kitchen site:HomeFinder.com\":0,\n",
    "\"dilapidated kitchen site:HomeFinder.com\":0,\n",
    "\"dirty kitchen site:HomeFinder.com\":0,\n",
    "\n",
    "\"cheap condo kitchen site:HomeFinder.com\":1,\n",
    "\"cheap apartment kitchen site:HomeFinder.com\":1,\n",
    "\"motel kitchen site:HomeFinder.com\":1,\n",
    "\n",
    "\"luxurious kitchen site:HomeFinder.com\":2,\n",
    "\"expensive kitchen site:HomeFinder.com\":2,\n",
    "\"mansion kitchen site:HomeFinder.com\":2\n",
    "}\n",
    "```"
   ]
  },
  {
   "cell_type": "markdown",
   "id": "burning-movie",
   "metadata": {
    "heading_collapsed": true
   },
   "source": [
    "## older stuffs"
   ]
  },
  {
   "cell_type": "markdown",
   "id": "multiple-composition",
   "metadata": {
    "hidden": true
   },
   "source": [
    "```python\n",
    "urls=[\"https://www.redfin.com/VA/Annandale/3428-Holly-Rd-22003/home/9626608\",\n",
    "      \"https://ssl.cdn-redfin.com/photo/235/bigphoto/914/VAFX2004914_22_1.jpg\",\n",
    "      \"https://photos.zillowstatic.com/fp/0954eb5046a8118ddc8b29a1ac3196b3-uncropped_scaled_within_1536_1152.webp\",\n",
    "      \"https://www.zillow.com/homedetails/333-Haight-St-3-San-Francisco-CA-94102/2069806984_zpid/?mmlb=g,24\", \n",
    "      \"https://www.zillow.com/san-francisco-ca/\",\n",
    "      \"https://duckduckgo.com/?q=&iar=images\"\n",
    "     ] \n",
    "```"
   ]
  },
  {
   "cell_type": "markdown",
   "id": "inappropriate-education",
   "metadata": {
    "hidden": true
   },
   "source": [
    "```python\n",
    "save_path=\"./capstone_imgs/untitled.jpg\"\n",
    "urllib.request.urlretrieve(urls[1], save_path)\n",
    "```"
   ]
  },
  {
   "cell_type": "markdown",
   "id": "dominant-engagement",
   "metadata": {
    "hidden": true
   },
   "source": [
    "```python\n",
    "def download_img(url, file_name, save_dir=\"./capstone_imgs/\", extension=\".jpg\"): \n",
    "    save_path=save_dir+file_name+extension\n",
    "    urllib.request.urlretrieve(url, save_path)\n",
    "    return save_path\n",
    "Image(filename=download_img(urls[2], \"untitled\", \"\"), width=300)\n",
    "```"
   ]
  },
  {
   "cell_type": "markdown",
   "id": "referenced-variance",
   "metadata": {
    "hidden": true
   },
   "source": [
    "```python \n",
    "url_sf_search=urls[4]\n",
    "headers={\n",
    "    'accept':'text/html,application/xhtml+xml,application/xml;q=0.9,image/avif,image/webp,image/apng,*/*;q=0.8,application/signed-exchange;v=b3;q=0.9',\n",
    "    'accept-encoding': 'gzip, deflate, br',\n",
    "    'accept-language': 'en-US,en;q=0.9',\n",
    "    'cache-control': 'max-age=0',\n",
    "    'cookie': 'zguid=23|%249897bb73-322e-443d-9c65-b059de49645e; zgsession=1|e9d13b80-9e85-4ee2-a265-befaa1015074; _ga=GA1.2.354669291.1626721515; _gid=GA1.2.548584873.1626721515; zjs_user_id=null; _pxvid=4138eae9-e8c4-11eb-a486-0242ac120007; _gcl_au=1.1.2033665599.1626721520; KruxPixel=true; DoubleClickSession=true; __pdst=3831350651364e4088d2a56dc79d4c32; _fbp=fb.1.1626721520475.1379154349; _pin_unauth=dWlkPU1XUTRaamt4TkRZdE9HUTJNaTAwTWpRM0xUazNORFF0TTJJNU1qQm1ZMlEyWkRJMQ; KruxAddition=true; _gac_UA-21174015-56=1.1626728921.Cj0KCQjwxdSHBhCdARIsAG6zhlWl1Aadyg0WwouP1bhO1ORDi8KRryrsrR6HXWjMFQFWECffcWRT64kaApsLEALw_wcB; zjs_utmcontent=%221471764169|65545421228|aud-352785740844:kwd-570802407|509015461848|%22; _gcl_aw=GCL.1626728922.Cj0KCQjwxdSHBhCdARIsAG6zhlWl1Aadyg0WwouP1bhO1ORDi8KRryrsrR6HXWjMFQFWECffcWRT64kaApsLEALw_wcB; JSESSIONID=E93CFF85480FE8A19763F0035F16168C; search=6|1629321958191%7Cregion%3Dsan-francisco-ca%26rect%3D38.76%252C-121.48%252C36.76%252C-123.48%26disp%3Dmap%26mdm%3Dauto%26pt%3Dpmf%252Cpf%26fs%3D1%26fr%3D0%26mmm%3D1%26rs%3D0%26ah%3D0%09%0920330%09%09%09%09%09%09; _gat=1; optimizelyEndUserId=oeu1626730194420r0.5311478475437017; zjs_anonymous_id=%229897bb73322e443d9c65b059de49645e%22; _pxff_bsco=1; _pxff_tm=1; _cs_mk=0.6538874072009262_1626730195754; _uetsid=42ee8700e8c411ebbb3725192d4851da; _uetvid=42ef55d0e8c411eba5df59405c258be5; _cs_c=1; _hp2_id.1215457233=%7B%22userId%22%3A%223048392848713395%22%2C%22pageviewId%22%3A%222797487669787189%22%2C%22sessionId%22%3A%22185358963487907%22%2C%22identity%22%3Anull%2C%22trackerVersion%22%3A%224.0%22%7D; _hp2_ses_props.1215457233=%7B%22r%22%3A%22https%3A%2F%2Fwww.zillow.com%2Fsan-francisco-ca%2F%3FsearchQueryState%3D%257B%2522usersSearchTerm%2522%253A%2522san%2520francisco%252C%2520CA%2522%252C%2522mapBounds%2522%253A%257B%2522west%2522%253A-122.75399245214844%252C%2522east%2522%253A-122.28020705175781%252C%2522south%2522%253A37.53038405238991%252C%2522north%2522%253A37.90299568470347%257D%252C%2522mapZoom%2522%253A11%252C%2522regionSelection%2522%253A%255B%257B%2522regionId%2522%253A20330%252C%2522regionType%2522%253A6%257D%255D%252C%2522isMapVisible%2522%253Afalse%252C%2522filterState%2522%253A%257B%2522ah%2522%253A%257B%2522value%2522%253Atrue%257D%252C%2522sort%2522%253A%257B%2522value%2522%253A%2522globalrelevanceex%2522%257D%257D%252C%2522isListVisible%2522%253Atrue%252C%2522category%2522%253A%2522cat1%2522%257D%22%2C%22ts%22%3A1626730196114%2C%22d%22%3A%22www.zillow.com%22%2C%22h%22%3A%22%2Fz%2Fcorp%2Fterms%2F%22%7D; utag_main=v_id:017ac0288ab8000fac6a960cca9d03079002d07100942$_sn:2$_se:1$_ss:1$_st:1626731995917$dc_visit:2$ses_id:1626730195917%3Bexp-session$_pn:1%3Bexp-session$dcsyncran:1%3Bexp-session$tdsyncran:1%3Bexp-session$dc_event:1%3Bexp-session; _px3=9cd39b2b24d143820cc14c813661abad9d222a289d995cd7cee47ae66b361bf1:7l+G2U6wIlf5RWoVsNjWh76ovZ6a+i/PTxq63XtJUB4288ZPohcdD1M7Jxreeu6PWHKk2RwxOu/bTIPnMOkAxA==:1000:/JFnD71W7z1MkByqHUTiDWu37i8FWkUzXT4nYqC0eaIEUklm67DCWY8Rk288HCXZNPISWTSGDVIs6X2hRhHMXuyMsCgQ97GQzgIrZqoemu6p87rV3k47qXmzdSxYlisvSlaY/kARYTLJSUSIwTuZaAF9gIxmps7suUfbdMN4hTL1h6L3zE0DtOykQU+CBSXtfQnKLNCHfxX43fZqF1nZQA==; _cs_id=4b3370e1-1f39-a927-8eb8-cb6d65dcd9ce.1626730196.1.1626730196.1626730196.1.1660894196797.Lax.0; _cs_s=1.1.0.1626731996801; __CT_Data=gpv=1&ckp=tld&dm=zillow.com&apv_82_www33=1&cpv_82_www33=1; AWSALB=nTnBKOWzdIo5upfl8Qf8GDB9014cA5Xy0D3+pQFNTYatXJEQcCYIElhzhD3ykI6mbtARuzCRrYnb99iyjXH6LzHFnXIaLfeQSHGR4ItSYyE0/W7U7rH3TUaSZeht; AWSALBCORS=nTnBKOWzdIo5upfl8Qf8GDB9014cA5Xy0D3+pQFNTYatXJEQcCYIElhzhD3ykI6mbtARuzCRrYnb99iyjXH6LzHFnXIaLfeQSHGR4ItSYyE0/W7U7rH3TUaSZeht; OptanonAlertBoxClosed=2021-07-19T21:29:59.295Z; OptanonConsent=isIABGlobal=false&datestamp=Mon+Jul+19+2021+14%3A29%3A59+GMT-0700+(Pacific+Daylight+Time)&version=5.11.0&landingPath=NotLandingPage&groups=1%3A1%2C3%3A1%2C4%3A1&consentId=f93c1241-2819-4c86-8491-0515afb55b7c',    \n",
    "    'referer': 'https://www.zillow.com/san-francisco-ca/?searchQueryState=%7B%22pagination%22%3A%7B%7D%2C%22usersSearchTerm%22%3A%22san%20francisco%2C%20CA%22%2C%22mapBounds%22%3A%7B%22west%22%3A-122.75399245214844%2C%22east%22%3A-122.28020705175781%2C%22south%22%3A37.53038405238991%2C%22north%22%3A37.90299568470347%7D%2C%22regionSelection%22%3A%5B%7B%22regionId%22%3A20330%2C%22regionType%22%3A6%7D%5D%2C%22isMapVisible%22%3Atrue%2C%22filterState%22%3A%7B%22sort%22%3A%7B%22value%22%3A%22globalrelevanceex%22%7D%2C%22ah%22%3A%7B%22value%22%3Atrue%7D%7D%2C%22isListVisible%22%3Atrue%2C%22mapZoom%22%3A11%7D',\n",
    "    'sec-ch-ua': '\" Not;A Brand\";v=\"99\", \"Google Chrome\";v=\"91\", \"Chromium\";v=\"91\"',\n",
    "    'sec-ch-ua-mobile': '?0',\n",
    "    'sec-fetch-dest': 'document',\n",
    "    'sec-fetch-mode': 'navigate',\n",
    "    'sec-fetch-site': 'same-origin',\n",
    "    'sec-fetch-user': '?1',\n",
    "    'upgrade-insecure-requests': '1',\n",
    "    'user-agent': 'Mo'\n",
    "}\n",
    "params={\"usersSearchTerm\":\"san francisco, CA\",\n",
    "        \"mapBounds\":{\"west\":-122.75399245214844,\n",
    "                     \"east\":-122.28020705175781,\n",
    "                     \"south\":37.53038405238991,\n",
    "                     \"north\":37.90299568470347},\n",
    "        \"mapZoom\":11,\"regionSelection\":[{\"regionId\":20330,\"regionType\":6}],\n",
    "        \"isMapVisible\":'false',\n",
    "        \"filterState\":{\"ah\":{\"value\":'true'},\"sort\":{\"value\":\"globalrelevanceex\"}},\n",
    "        \"isListVisible\":'true',\"category\":\"cat1\"}\n",
    "response=requests.get(url_sf_search, headers=headers, params=params)\n",
    "response\n",
    "```"
   ]
  },
  {
   "cell_type": "markdown",
   "id": "hindu-dairy",
   "metadata": {
    "hidden": true
   },
   "source": [
    "```python \n",
    "%%time\n",
    "content=BeautifulSoup(response.text)\n",
    "deck=content.find('ul', {'class':\"photo-cards photo-cards_wow photo-cards_short photo-cards_extra-attribution\"})\n",
    "deck.find_all('a', {'class': 'list-card-link list-card-link-top-margin list-card-img'})\n",
    "thumbnails=deck.find_all('img')\n",
    "[download_img(X['src'], f\"thumbnail#{i}\") for i, X in enumerate(thumbnails)]\n",
    "```"
   ]
  },
  {
   "cell_type": "markdown",
   "id": "recreational-characterization",
   "metadata": {
    "hidden": true
   },
   "source": [
    "`Image(filename='./capstone_imgs/thumbnail#0.jpg')`"
   ]
  },
  {
   "cell_type": "markdown",
   "id": "smooth-summer",
   "metadata": {
    "hidden": true
   },
   "source": [
    "`url_bathroom_search=urls[5] `"
   ]
  },
  {
   "cell_type": "markdown",
   "id": "pressing-meditation",
   "metadata": {
    "hidden": true
   },
   "source": [
    "```python \n",
    "%%time\n",
    "url_bathroom_search=\"https://duckduckgo.com/?q={}&t=h_&iax=images&ia=images\".format('bathroompictures')\n",
    "headers={\n",
    "    'accept': 'text/html,application/xhtml+xml,application/xml;q=0.9,image/avif,image/webp,image/apng,*/*;q=0.8,application/signed-exchange;v=b3;q=0.9',\n",
    "    'accept-encoding': 'gzip, deflate, br',\n",
    "    'accept-language': 'en-US,en;q=0.9',\n",
    "    'cache-control': 'max-age=0',\n",
    "    'referer': 'https://duckduckgo.com/',\n",
    "    'sec-ch-ua': '\" Not;A Brand\";v=\"99\", \"Google Chrome\";v=\"91\", \"Chromium\";v=\"91\"',\n",
    "    'sec-ch-ua-mobile': '?0',\n",
    "    'sec-fetch-dest': 'document','sec-fetch-mode': 'navigate',\n",
    "    'sec-fetch-site': 'same-origin','sec-fetch-user': '?1',\n",
    "    'upgrade-insecure-requests': '1',\n",
    "    'user-agent': 'Mozilla/5.0 (Macintosh; Intel Mac OS X 10_15_7) AppleWebKit/537.36 (KHTML, like Gecko) Chrome/91.0.4472.114 Safari/537.36'\n",
    "}\n",
    "params={\n",
    "    'q': 'bathroom pictures',\n",
    "    'va': 'b',\n",
    "    't': 'hc',\n",
    "    'iax': 'images',\n",
    "    'ia': 'images'\n",
    "}\n",
    "response=requests.get(url_bathroom_search,headers=headers)\n",
    "response\n",
    "```"
   ]
  },
  {
   "cell_type": "markdown",
   "id": "egyptian-cooper",
   "metadata": {
    "hidden": true
   },
   "source": [
    "```python \n",
    "content=BeautifulSoup(response.text, 'html.parser') \n",
    "# deck=content.find('div',{'class':'zci__main  zci__main--tiles  js-tiles   has-nav tileview__images has-tiles--grid'})\n",
    "# deck.find_all('div', {'class':'tile  tile--img  has-detail'})\n",
    "# print(deck)\n",
    "print(content.prettify())\n",
    "```"
   ]
  },
  {
   "cell_type": "markdown",
   "id": "powerful-dance",
   "metadata": {
    "hidden": true
   },
   "source": [
    "```python \n",
    "# url_google_search=\"https://www.google.com/search?q=bathroom&picturestbm=isch&ved=2ahUKEwiPkIuSivHxAhWeATQIHRX7Dc4Q2-cCegQIABAA&oq=bathroom+pictures&gs_lcp=CgNpbWcQAzIFCAAQsQMyAggAMgIIADICCAAyAggAMgIIADICCAAyAggAMgIIADICCABQ-QFY-QFgyQNoAHAAeACAAY0BiAGNAZIBAzAuMZgBAKABAaoBC2d3cy13aXotaW1nwAEB&sclient=img&ei=93T2YM-4E56D0PEPlfa38Aw&bih=798&biw=1440&hl=en\"\n",
    "url_google_search=\"https://www.google.com/search?site=&tbm=isch&source=hp&biw=1873&bih=990&q=\" + 'bathroom+pictures'\n",
    "headers={\n",
    "'accept': 'text/html,application/xhtml+xml,application/xml;q=0.9,image/avif,image/webp,image/apng,*/*;q=0.8,application/signed-exchange;v=b3;q=0.9',\n",
    "'accept-encoding': 'gzip, deflate, br',\n",
    "'accept-language': 'en-US,en;q=0.9',\n",
    "'cache-control': 'max-age=0',\n",
    "'cookie': 'CGIC=IocBdGV4dC9odG1sLGFwcGxpY2F0aW9uL3hodG1sK3htbCxhcHBsaWNhdGlvbi94bWw7cT0wLjksaW1hZ2UvYXZpZixpbWFnZS93ZWJwLGltYWdlL2FwbmcsKi8qO3E9MC44LGFwcGxpY2F0aW9uL3NpZ25lZC1leGNoYW5nZTt2PWIzO3E9MC45; OTZ=6074342_84_88_104280_84_446940; NID=219=3iI2G9KOUu0UeWJwufF5yp7e_YWy-Jqa4sy6AQBq9A83KkTQi60R5DLh4WIjX5DdL-ySYAthc4Q58RcCsUFFfAESvW5PpbrVaBapJsgu_UguDnOPTFVXCd5zQxj0cPekrFR4UigyfIVR2-xAFjdZA376dkAsnrTvx9AJsJ5vZJE; OGPC=19022591-1:; DV=w-MBoejvLyEj4OgbEydFW6gZm-YrrJeKpsw9cz05QgEAAAA; 1P_JAR=2021-7-20-7',\n",
    "'referer': 'https://www.google.com/',\n",
    "'sec-ch-ua': '\" Not;A Brand\";v=\"99\", \"Google Chrome\";v=\"91\", \"Chromium\";v=\"91\"',\n",
    "'sec-ch-ua-mobile': '?0',\n",
    "'sec-fetch-dest': 'document',\n",
    "'sec-fetch-mode': 'navigate',\n",
    "'sec-fetch-site': 'same-origin',\n",
    "'sec-fetch-user': '?1',\n",
    "'upgrade-insecure-requests': '1',\n",
    "'user-agent': 'Mozilla/5.0 (Macintosh; Intel Mac OS X 10_15_7) AppleWebKit/537.36 (KHTML, like Gecko) Chrome/91.0.4472.114 Safari/537.36'\n",
    "}\n",
    "params={\n",
    "'q': 'bathroom pictures',\n",
    "'hl': 'en',\n",
    "'tbm': 'isch',\n",
    "'source': 'lnms',\n",
    "'sa': 'X',\n",
    "'ved': '0ahUKEwinpbC-i_HxAhXPrJ4KHU5CAGkQ_AUI1gcoAQ',\n",
    "'biw': '1440',\n",
    "'bih': '798'\n",
    "}\n",
    "res=requests.get(url_google_search, headers=headers, params=params)\n",
    "res\n",
    "```"
   ]
  },
  {
   "cell_type": "markdown",
   "id": "important-illinois",
   "metadata": {
    "hidden": true
   },
   "source": [
    "```python\n",
    "content=BeautifulSoup(res.text, 'html.parser') \n",
    "deck=content.find_all('img', {'class':'rg_i Q4LuWd'})\n",
    "# print(content.prettify())\n",
    "deck[0]['src']\n",
    "```"
   ]
  },
  {
   "cell_type": "markdown",
   "id": "extreme-clinic",
   "metadata": {},
   "source": [
    "## Extraction"
   ]
  },
  {
   "cell_type": "markdown",
   "id": "animated-indian",
   "metadata": {},
   "source": [
    "### imgextract class"
   ]
  },
  {
   "cell_type": "code",
   "execution_count": 51,
   "id": "checked-wildlife",
   "metadata": {},
   "outputs": [],
   "source": [
    "class ImgExtract:\n",
    "    img_1stpg=(\"https://cdn.aquaticausa.com/cache/images/1280x800a-ffffff/\"\n",
    "               \"aquatica/Aquatica-purescape-171-freestanding-solid-surface-bathtub-02-2-(web).jpg\")\n",
    "    getty=\"https://www.gettyimages.com/photos/bathroom?phrase=bathroom&sort=best\"\n",
    "    search_template=(\"https://www.google.com/search?safe=off&site=&tbm=isch&source=hp&q={q}&oq={q}&gs_l=img\")\n",
    "    def firstpage():\n",
    "        res=requests.get(self.img_1stpg, stream=True)\n",
    "        res.raw.decode_content=True\n",
    "        with open('./capstonedump/example.jpg', 'wb') as fout_: \n",
    "            copyfileobj(res.raw, fout_)\n",
    "    \n",
    "    def decode_base64(in_save, in_encription, **KWARGS):\n",
    "        with open(in_save, 'wb') as outfile_:\n",
    "            stripped=re.sub('data:image/jpeg;base64,', '', in_encription)\n",
    "            \n",
    "            try: \n",
    "                decoded=base64.b64decode((stripped))\n",
    "                \n",
    "            except requests.HTTPError as err: \n",
    "                if err.code == 404: \n",
    "                    pass \n",
    "                \n",
    "            outfile_.write(decoded)\n",
    "            \n",
    "    def decript_gstatic(in_save, in_gstatic):\n",
    "        try: \n",
    "            urlretrieve(in_gstatic, in_save)\n",
    "              \n",
    "        except HTTPError as err: \n",
    "            if err.code == 404: \n",
    "                pass \n",
    "    \n",
    "    def soupextract_allimgs(in_pgsrc): \n",
    "        return [tag[attr]\n",
    "                for attr \n",
    "                in ['src', 'data-src']\n",
    "                for tag \n",
    "                in BeautifulSoup(in_pgsrc, 'lxml')\n",
    "                    .body\n",
    "                    .find_all('div', {'class': 'OcgH4b'})[0] \n",
    "                    .find_all('img', {attr: True, 'class': 'rg_i Q4LuWd'})]\n",
    "\n",
    "    def download_allgstatics(in_links, in_template=\"./capstonedump/gstatics{}.jpg\"):\n",
    "        [ImgExtract \n",
    "         .decript_gstatic(in_template.format(i), hlink) \n",
    "         for i, hlink  \n",
    "         in enumerate(gstatics)]\n",
    "        \n",
    "    def download_allbase64(in_base64, in_template):\n",
    "        [(ImgExtract\n",
    "            .decode_base64(\n",
    "                template.format(i), \n",
    "                in_base64[i]))\n",
    "         for i \n",
    "         in range(len(in_base64))]\n",
    "    \n",
    "    def click_button(in_drver):\n",
    "        try:\n",
    "            (WebDriverWait(in_drver, 10)\n",
    "             .until(expected_conditions\n",
    "                    .element_to_be_clickable(\n",
    "                        (By.CSS_SELECTOR, \n",
    "                        \"input[type='button']\")))\n",
    "             .click())\n",
    "        except TimeoutException as ex: \n",
    "            pass \n",
    "    \n",
    "    def wait_and_scroll(in_drver):\n",
    "        sleep(7)\n",
    "        in_drver.execute_script(\"window.scrollTo(0, document.body.scrollHeight)\")\n",
    "    \n",
    "    def search_download(in_drver, in_search='living room'): \n",
    "        in_drver.get(\n",
    "            ImgExtract.search_template.format(q=in_search))\n",
    "        [ImgExtract.wait_and_scroll(in_drver) for i in range(7)]\n",
    "        ImgExtract.click_button(in_drver)\n",
    "        [ImgExtract.wait_and_scroll(in_drver) for i in range(7)]\n",
    "        return in_drver"
   ]
  },
  {
   "cell_type": "markdown",
   "id": "guilty-flooring",
   "metadata": {
    "heading_collapsed": true
   },
   "source": [
    "#### notes"
   ]
  },
  {
   "cell_type": "markdown",
   "id": "preliminary-summer",
   "metadata": {
    "hidden": true
   },
   "source": [
    "```\n",
    "(len(soup.body.find_all('img', {'class': 'rg_i Q4LuWd'}))  \n",
    " + len(soup.body.find_all('img', {'class': 's0Fsx'})))\n",
    " \n",
    " 844 total 793\n",
    " 1min 56s 760 gstatics\n",
    " ```"
   ]
  },
  {
   "cell_type": "markdown",
   "id": "detailed-military",
   "metadata": {
    "hidden": true
   },
   "source": [
    "```python\n",
    "CATEGORY='beautiful bathroom'\n",
    "url=(\"https://www.google.com/search?safe=off&site=&tbm=isch&source=hp&q={q}&oq={q}&gs_l=img\" \n",
    "     .format(q=CATEGORY))\n",
    "browser.get(url)\n",
    "# browser.execute_script(\"window.scrollTo(0,1e39);\")\n",
    "```"
   ]
  },
  {
   "cell_type": "markdown",
   "id": "invalid-lender",
   "metadata": {
    "hidden": true
   },
   "source": [
    "```python \n",
    "allsrc=ImgExtract.soupextract_allimgs(browser.page_source)\n",
    "dill.dump(allsrc, open('./capstonedump/allsrc.pkd', 'wb'))\n",
    "```"
   ]
  },
  {
   "cell_type": "markdown",
   "id": "similar-oklahoma",
   "metadata": {
    "hidden": true
   },
   "source": [
    "```python\n",
    "allsrc=dill.load(open('./capstonedump/allsrc.pkd', 'rb'))\n",
    "srclinksdf=pd.Series(allsrc, dtype='string') \n",
    "srclinksdf.size\n",
    "gstatics=ImgExtract.filter_gstatic(srclinksdf).tolist()\n",
    "```"
   ]
  },
  {
   "cell_type": "markdown",
   "id": "infrared-produce",
   "metadata": {
    "hidden": true
   },
   "source": [
    "```python \n",
    "%%time\n",
    "(ImgExtract \n",
    " .download_allgstatics(gstatics,  \n",
    "                       in_template=f\"./capstonedump/gstatics-{CATEGORY}\"+\"-{}.jpg\"))\n",
    "```"
   ]
  },
  {
   "cell_type": "markdown",
   "id": "binding-sarah",
   "metadata": {
    "hidden": true
   },
   "source": [
    "```python\n",
    "allbase64 = ImgExtract.filter_base64(srclinksdf)\n",
    "template=f\"./capstonedump/base64-{CATEGORY}\"+\"-{}.jpeg\"\n",
    "```"
   ]
  },
  {
   "cell_type": "markdown",
   "id": "ready-hampshire",
   "metadata": {},
   "source": [
    "## Processing main"
   ]
  },
  {
   "cell_type": "markdown",
   "id": "meaningful-georgia",
   "metadata": {},
   "source": [
    "### clean"
   ]
  },
  {
   "cell_type": "code",
   "execution_count": 52,
   "id": "right-latin",
   "metadata": {},
   "outputs": [],
   "source": [
    "class ImgPrep:\n",
    "    def decode_base64(in_save, in_encription):\n",
    "            with open(in_save, 'wb') as outfile_:\n",
    "                stripped=re.sub('data:image/jpeg;base64,', '', in_encription)\n",
    "                decoded=base64.b64decode((stripped))\n",
    "                outfile_.write(decoded) \n",
    "\n",
    "    def download(in_imglinks,  \n",
    "                 in_category,  \n",
    "                 in_photo_savepath):\n",
    "        base64_save=f\"{in_photo_savepath}/base64-{in_category}\"+\"-{}.jpeg\"\n",
    "        gstatic_save=f\"{in_photo_savepath}/gstatic-{in_category}\"+\"-{}.jpg\"\n",
    "\n",
    "        [ImgPrep\n",
    "             .decode_base64(base64_save \n",
    "                                .format(index),  \n",
    "                            unit)\n",
    "         if \"data:image/jpeg;base64,/9j\"  \n",
    "         in unit \n",
    "         else urlretrieve(unit,  \n",
    "                          gstatic_save \n",
    "                              .format(index))\n",
    "         for index, unit \n",
    "         in enumerate(luxlinks)]\n",
    "    \n",
    "    def label_from_file(in_file):\n",
    "        pass"
   ]
  },
  {
   "cell_type": "markdown",
   "id": "certified-spending",
   "metadata": {
    "heading_collapsed": true
   },
   "source": [
    "### decoder"
   ]
  },
  {
   "cell_type": "code",
   "execution_count": null,
   "id": "public-congo",
   "metadata": {
    "hidden": true
   },
   "outputs": [],
   "source": [
    "class ImgDecoder: \n",
    "    def make_diretories():\n",
    "        pass \n",
    "    def links_in_classes():\n",
    "        return [(dill.load(open(f\"{CORE_SAVEDIR}{file}\",  \n",
    "                                \"rb\")),  \n",
    "                 ImgPrep.label_from_file(file))\n",
    "                    for file  \n",
    "                    in os.listdir(CORE_SAVEDIR) \n",
    "                    if file.startswith(\"allsrc\")  \n",
    "                        and file.endswith(\".pkd\")]\n",
    "    \n",
    "    def decode_from_links():\n",
    "        [ImgPrep.decode_base64(f\"{PHOTO_SAVEDIR}{label}/{index}.jpeg\", unit)\n",
    "            if \"data:image/jpeg;base64,/9j\" \n",
    "            in unit\n",
    "            else urlretrieve(unit, f\"{PHOTO_SAVEDIR}{label}/{index}.jpg\")\n",
    "            for links, label  \n",
    "            in ImgDecoder.links_in_classes()\n",
    "            for index, unit  \n",
    "            in enumerate(links)]\n",
    "    \n",
    "    def run():\n",
    "        ImgDecoder.make_diretories()\n",
    "        ImgDecoder.decode_from_links()"
   ]
  },
  {
   "cell_type": "markdown",
   "id": "absent-salad",
   "metadata": {},
   "source": [
    "## "
   ]
  },
  {
   "cell_type": "code",
   "execution_count": 53,
   "id": "offshore-bridges",
   "metadata": {},
   "outputs": [],
   "source": [
    "def scrape_image_links(in_searches_and_labels=LABELS):\n",
    "    for search_term, class_label in in_searches_and_labels.items():\n",
    "        driver_=(ImgExtract\n",
    "                 .search_download(\n",
    "                     browser, \n",
    "                     in_search=search_term))\n",
    "        source_links_=(ImgExtract\n",
    "                       .soupextract_allimgs(\n",
    "                           driver_.page_source))\n",
    "        file_name=re.sub(r\"\\.| |\\:\", \"-\", search_term)\n",
    "        print(file_name)\n",
    "        dill.dump(source_links_, \n",
    "                  open(f\"{LINK_DUMPATH}/{class_label}/{file_name}.pkd\", \"wb\"))"
   ]
  },
  {
   "cell_type": "code",
   "execution_count": null,
   "id": "architectural-plaintiff",
   "metadata": {},
   "outputs": [],
   "source": [
    "%%time\n",
    "captured=[os.remove(f\"{LINK_DUMPATH}/{i}/{file}\") \n",
    " for i in range(3) \n",
    " for file in os.listdir(f\"{LINK_DUMPATH}/{i}/\")] \n",
    "len(captured)\n",
    "scrape_image_links()\n"
   ]
  },
  {
   "cell_type": "markdown",
   "id": "quarterly-caution",
   "metadata": {},
   "source": [
    "```python\n",
    "browser.get(\n",
    "    ImgExtract\n",
    "    .search_template.format(q= \"dirty apartment kitchen\"))\n",
    "```"
   ]
  },
  {
   "cell_type": "markdown",
   "id": "instructional-labor",
   "metadata": {},
   "source": [
    "```python\n",
    "[os.remove(f\"{LINK_DUMPATH}/{i}/{file}\") for i in range(3) for file in os.listdir(f\"{LINK_DUMPATH}/{i}/\")] \n",
    "```"
   ]
  },
  {
   "cell_type": "code",
   "execution_count": 8,
   "id": "statewide-township",
   "metadata": {},
   "outputs": [
    {
     "data": {
      "text/plain": [
       "['dirty-kitchen-site-zillow-com.pkd',\n",
       " 'abandoned-dirty-kitchen-site-zillow-com.pkd',\n",
       " 'small-messy-kitchen-site-zillow-com.pkd',\n",
       " 'old-broken-kitchen-site-Redfin-com.pkd',\n",
       " 'disrepair-kitchen-site-zillow-com.pkd',\n",
       " 'dilapidated-kitchen-site-zillow-com.pkd',\n",
       " 'motel-kitchen-site-zillow-com.pkd',\n",
       " 'cheap-apartment-kitchen-site-zillow-com.pkd',\n",
       " 'cheap-condo-kitchen-site-zillow-com.pkd',\n",
       " 'luxurious-kitchen-site-zillow-com.pkd',\n",
       " 'mansion-kitchen-site-zillow-com.pkd',\n",
       " 'expensive-kitchen-site-zillow-com.pkd']"
      ]
     },
     "execution_count": 8,
     "metadata": {},
     "output_type": "execute_result"
    }
   ],
   "source": [
    "[file\n",
    " for label in range(3)  \n",
    " for file in os.listdir(f\"{LINK_DUMPATH}/{label}\")]"
   ]
  },
  {
   "cell_type": "code",
   "execution_count": 9,
   "id": "wrong-excuse",
   "metadata": {},
   "outputs": [],
   "source": [
    "bunch_links_label_searchterm=[\n",
    "    (dill.load(open(f\"{LINK_DUMPATH}/{label}/{file}\", \"rb\")),  \n",
    "     (label, re.sub(r\"\\.pkd\", \"\", file))) \n",
    "          for label in range(N_CLASSES)\n",
    "          for file in os.listdir(f\"{LINK_DUMPATH}/{label}/\")]"
   ]
  },
  {
   "cell_type": "code",
   "execution_count": 10,
   "id": "representative-toner",
   "metadata": {},
   "outputs": [
    {
     "data": {
      "text/plain": [
       "26720"
      ]
     },
     "execution_count": 10,
     "metadata": {},
     "output_type": "execute_result"
    }
   ],
   "source": [
    "captured=[os.remove(f\"{PHOTO_DUMPATH}/{i}/{file}\") \n",
    " for i in range(3) \n",
    " for file in os.listdir(f\"{PHOTO_DUMPATH}/{i}/\")] \n",
    "len(captured)"
   ]
  },
  {
   "cell_type": "code",
   "execution_count": 11,
   "id": "derived-going",
   "metadata": {},
   "outputs": [
    {
     "name": "stdout",
     "output_type": "stream",
     "text": [
      "(0, 'dirty-kitchen-site-zillow-com')\n",
      "(0, 'abandoned-dirty-kitchen-site-zillow-com')\n",
      "(0, 'small-messy-kitchen-site-zillow-com')\n",
      "(0, 'old-broken-kitchen-site-Redfin-com')\n",
      "(0, 'disrepair-kitchen-site-zillow-com')\n",
      "(0, 'dilapidated-kitchen-site-zillow-com')\n",
      "(1, 'motel-kitchen-site-zillow-com')\n",
      "(1, 'cheap-apartment-kitchen-site-zillow-com')\n",
      "(1, 'cheap-condo-kitchen-site-zillow-com')\n",
      "(2, 'luxurious-kitchen-site-zillow-com')\n",
      "(2, 'mansion-kitchen-site-zillow-com')\n",
      "(2, 'expensive-kitchen-site-zillow-com')\n",
      "CPU times: user 3min 10s, sys: 19.7 s, total: 3min 29s\n",
      "Wall time: 15min 10s\n"
     ]
    }
   ],
   "source": [
    "%%time\n",
    "for links, label_searchterm in bunch_links_label_searchterm:\n",
    "    label, searchterm= label_searchterm \n",
    "    print(label_searchterm)\n",
    "    for index, source in enumerate(links):\n",
    "        if \"data:image/jpeg;base64,\" in source:\n",
    "            ImgExtract.decode_base64(f\"{PHOTO_DUMPATH}/{label}/{index}-{searchterm}-base64.jpeg\", source)\n",
    "        else:\n",
    "            ImgExtract.decript_gstatic(f\"{PHOTO_DUMPATH}/{label}/{index}-{searchterm}-gstatic.jpg\", source)"
   ]
  },
  {
   "cell_type": "markdown",
   "id": "stupid-pendant",
   "metadata": {},
   "source": [
    "```\n",
    "involves people && text (taking up too much frame)\n",
    "not kitchen\n",
    "cartoon & illustration\n",
    "```"
   ]
  },
  {
   "cell_type": "code",
   "execution_count": 12,
   "id": "experienced-inventory",
   "metadata": {},
   "outputs": [
    {
     "name": "stdout",
     "output_type": "stream",
     "text": [
      "3033\n",
      "2633\n",
      "2665\n"
     ]
    }
   ],
   "source": [
    "for label in range(3):\n",
    "    print(len(os.listdir(f\"{PHOTO_DUMPATH}/{label}\")))"
   ]
  },
  {
   "cell_type": "markdown",
   "id": "civic-jamaica",
   "metadata": {
    "heading_collapsed": true
   },
   "source": [
    "## Scrape Zillow SF listings"
   ]
  },
  {
   "cell_type": "code",
   "execution_count": 484,
   "id": "enormous-syndrome",
   "metadata": {
    "hidden": true
   },
   "outputs": [],
   "source": [
    "class PropertyListing:\n",
    "    SEARCH_TERM=\"San Francisco for sale\"\n",
    "    zillow_path=\"https://zillow.com\"\n",
    "    def extract_album(in_driver, \n",
    "                      in_search_term):\n",
    "        in_driver.get(ImgExtract.search_template.format(q=in_search_term))\n",
    "        for i in range(3):\n",
    "            browser.execute_script(\"window.scrollTo(0, document.body.scrollHeight)\")\n",
    "            sleep(5)\n",
    "        page=BeautifulSoup(in_driver.page_source, \n",
    "                           'lxml')\n",
    "        album=(page\n",
    "               .body\n",
    "               .find_all(\"div\", \n",
    "                         {\"class\": \n",
    "                          \"isv-r PNCib MSM1fd BUooTd\"}))\n",
    "        return album\n",
    "\n",
    "    def capture_listing_link_and_image(in_listing_address, \n",
    "                                       in_album):\n",
    "        property_pic=[pic \n",
    "                      for pic in in_album\n",
    "                      if in_listing_address in str(pic)][0]\n",
    "        property_link=property_pic.find(\"a\", href=True)['href']\n",
    "        try:\n",
    "            property_img=property_pic.find(\"img\", src=True)['src']\n",
    "        except TypeError: \n",
    "            property_img=None\n",
    "        return in_listing_address, (property_link, property_img)\n",
    "    def extract_content(in_driver, in_address):\n",
    "        print(in_address)\n",
    "        sleep(5)\n",
    "        in_driver.get(\"https://www.zillow.com/homes\") \n",
    "        searchbox=(WebDriverWait(in_driver, 10)\n",
    "                   .until(expected_conditions\n",
    "                          .element_to_be_clickable(\n",
    "                              (By.CSS_SELECTOR, \n",
    "             \"input[placeholder='Address, neighborhood, or ZIP']\"))))\n",
    "\n",
    "        for clicks in range(20):\n",
    "            searchbox.send_keys(Keys.BACK_SPACE)\n",
    "            sleep(1)\n",
    "        searchbox.send_keys(in_address)\n",
    "        sleep(2)\n",
    "        searchbox.send_keys(Keys.ENTER)\n",
    "        sleep(5)\n",
    "        content = (BeautifulSoup(in_driver.page_source, 'lxml').body)\n",
    "        return in_address, content"
   ]
  },
  {
   "cell_type": "markdown",
   "id": "embedded-bible",
   "metadata": {
    "hidden": true
   },
   "source": [
    "```python \n",
    "%%capture\n",
    "LISTINGS=[\n",
    "    (\"dilapidated kitchen san francisco for sale after:2021-06-01 site:Zillow.com\",\n",
    "        (\"8420 Birch St, Oakland, CA 94621\",\n",
    "         \"1326 Diamond St, San Francisco, CA 94131\",\n",
    "         \"815 Pacheco St, San Francisco, CA 94116\") \n",
    "    ),\n",
    "    (\"dirty kitchen san francisco for sale after:2021-06-01 site:Zillow.com\",\n",
    "        (\"851 34th Ave, Oakland, CA 94601\",\n",
    "         \"6424 Foothill Blvd, Oakland, CA 94605\",\n",
    "         \"1370 Quesada Ave, San Francisco, CA 94124\" \n",
    "         )\n",
    "    ),\n",
    "    (\"small kitchen san francisco for sale after:2021-08-01 site:zillow.com\",\n",
    "        (\n",
    "#             \"1546 46th Ave, San Francisco, CA 94122\",\n",
    "#          \"2878 Sacramento St APT 6, San Francisco, CA 94115\",\n",
    "         \"181 Lucky St, San Francisco, CA 94110\",\n",
    "         \"353 San Jose Ave, San Francisco, CA 94110\",\n",
    "         \"1238 Sutter St #501, San Francisco, CA 94109\",\n",
    "         \"62 Natick St, San Francisco, CA 94131\",\n",
    "         \"635 Joost Ave, San Francisco, CA 94127\"\n",
    "        ) \n",
    "    ),\n",
    "     (\"large kitchen san francisco for sale after:2021-08-01 site:zillow.com\",\n",
    "        (\"1311 Guerrero St APT 1, San Francisco, CA 94110\",\n",
    "         \"62 Natick St, San Francisco, CA 94131\",\n",
    "         \"1933 B Jones St, San Francisco, CA 94133\",\n",
    "         \"708 Long Bridge St APT 110, San Francisco, CA 94158\",\n",
    "         \"101 Upper Ter, San Francisco, CA 94117\"\n",
    "        )\n",
    "    )\n",
    "]\n",
    "```"
   ]
  },
  {
   "cell_type": "code",
   "execution_count": null,
   "id": "descending-broadway",
   "metadata": {
    "hidden": true
   },
   "outputs": [],
   "source": [
    "browser.get(PropertyListing.zillow_path)\n",
    "sleep(7)\n",
    "\n",
    "matching_listings=[]\n",
    "for search in LISTINGS:\n",
    "    album=PropertyListing.extract_album(browser, search[0])\n",
    "    for address in search[1]:\n",
    "        print(address)\n",
    "        c_=PropertyListing.capture_listing_link_and_image(address, album) \n",
    "        matching_listings.append(c_)\n",
    "        \n",
    "listing_profiles=[]\n",
    "listing_imgs=[]\n",
    "for listing in matching_listings:\n",
    "    addr, link_img= listing\n",
    "    link, img= link_img \n",
    "    listing_imgs=(addr, img)\n",
    "    \n",
    "    content=(BeautifulSoup(requests.get(link).text, 'lxml').body)\n",
    "    listing_profiles=(addr, content)\n",
    "    sleep(4)"
   ]
  },
  {
   "cell_type": "markdown",
   "id": "unexpected-quest",
   "metadata": {
    "hidden": true
   },
   "source": [
    "```python \n",
    "listing_contents = [PropertyListing.extract_content(browser, unit[0])\n",
    "                    for unit in matching_listings[10:]\n",
    "                   ]\n",
    "dill.dump([(unit[0], unit[1].text) for unit in listing_contents], \n",
    "          open(f\"{DEMO_LISTINGS_DUMPATH}/listing_contents1.pkd\", \n",
    "               \"wb\"))\n",
    "```"
   ]
  },
  {
   "cell_type": "markdown",
   "id": "sunset-pitch",
   "metadata": {
    "hidden": true
   },
   "source": [
    "```python \n",
    "loaded_contents=[\n",
    "    dill.load(open(f\"{DEMO_LISTINGS_DUMPATH}/listing_contents{i}.pkd\", \n",
    "                   \"rb\"))\n",
    "    for i in range(2)]\n",
    "unwind_contents= list(chain(*loaded_contents))\n",
    "addr_img=[(unit[0], unit[1][1]) for unit in matching_listings]\n",
    "dill.dump(addr_img, open(f\"{DEMO_LISTINGS_DUMPATH}/listing_images.pkd\", \"wb\"))\n",
    "```"
   ]
  },
  {
   "cell_type": "markdown",
   "id": "sized-sandwich",
   "metadata": {
    "heading_collapsed": true
   },
   "source": [
    "## Extract Property Profile "
   ]
  },
  {
   "cell_type": "markdown",
   "id": "continent-complaint",
   "metadata": {
    "hidden": true
   },
   "source": [
    "```\n",
    "1. extract property profiles from listing_contents (address, profile)\n",
    "2. download property kitchen-images from listing_images (address, image)\n",
    "3. use model B5 + trained-softmax to predict kitchen tags\n",
    "4. flask iteractive map...\n",
    "```"
   ]
  },
  {
   "cell_type": "code",
   "execution_count": 585,
   "id": "terminal-figure",
   "metadata": {
    "hidden": true
   },
   "outputs": [],
   "source": [
    "with open(f\"{DEMO_LISTINGS_DUMPATH}/listing_images.pkd\", \"wb\") as writefile:\n",
    "    dill.dump(addr_img, writefile)\n",
    "with open(f\"{DEMO_LISTINGS_DUMPATH}/listing_images.pkd\", \"rb\") as readfile:\n",
    "    loaded=dill.load(readfile)"
   ]
  },
  {
   "cell_type": "code",
   "execution_count": 587,
   "id": "fancy-nudist",
   "metadata": {
    "hidden": true,
    "scrolled": true
   },
   "outputs": [
    {
     "data": {
      "text/plain": [
       "'data:image/jpeg;base64,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'"
      ]
     },
     "execution_count": 587,
     "metadata": {},
     "output_type": "execute_result"
    }
   ],
   "source": [
    "dill.load(open(f\"{DEMO_LISTINGS_DUMPATH}/listing_images.pkd\", \"rb\"))[0][1]"
   ]
  },
  {
   "cell_type": "code",
   "execution_count": 588,
   "id": "spread-storm",
   "metadata": {
    "hidden": true
   },
   "outputs": [
    {
     "name": "stdout",
     "output_type": "stream",
     "text": [
      "full\n",
      "full\n",
      "full\n",
      "full\n",
      "full\n",
      "full\n",
      "full\n",
      "full\n",
      "full\n",
      "full\n",
      "full\n",
      "full\n",
      "full\n",
      "full\n",
      "full\n",
      "full\n",
      "CPU times: user 29.2 ms, sys: 16.7 ms, total: 45.9 ms\n",
      "Wall time: 126 ms\n"
     ]
    }
   ],
   "source": [
    "%%time\n",
    "for address, source in dill.load(open(f\"{DEMO_LISTINGS_DUMPATH}/listing_images.pkd\", \"rb\")):\n",
    "    processed_address=re.sub(\" \", \"-\", address.split(\",\")[0])\n",
    "    if \"data:image/jpeg;base64,/9j/\" in source: \n",
    "        ImgExtract.decode_base64(\"{}/images/{}-kitchen.jpeg\"\n",
    "                                 .format(DEMO_LISTINGS_DUMPATH, processed_address), \n",
    "                                 source)\n",
    "    else:\n",
    "        ImgExtract.decript_gstatic(\"{}/images/{}-kitchen.jpg\"\n",
    "                                   .format(DEMO_LISTINGS_DUMPATH, processed_address), \n",
    "                                   source)"
   ]
  },
  {
   "cell_type": "code",
   "execution_count": 610,
   "id": "oriented-fields",
   "metadata": {
    "hidden": true
   },
   "outputs": [
    {
     "data": {
      "text/plain": [
       "Counter({'8420 Birch St, Oakland, CA 94621': 1,\n",
       "         '1326 Diamond St, San Francisco, CA 94131': 1,\n",
       "         '815 Pacheco St, San Francisco, CA 94116': 1,\n",
       "         '851 34th Ave, Oakland, CA 94601': 1,\n",
       "         '6424 Foothill Blvd, Oakland, CA 94605': 1,\n",
       "         '1370 Quesada Ave, San Francisco, CA 94124': 1,\n",
       "         '181 Lucky St, San Francisco, CA 94110': 1,\n",
       "         '353 San Jose Ave, San Francisco, CA 94110': 1,\n",
       "         '1238 Sutter St #501, San Francisco, CA 94109': 1,\n",
       "         '62 Natick St, San Francisco, CA 94131': 2,\n",
       "         '635 Joost Ave, San Francisco, CA 94127': 1,\n",
       "         '1311 Guerrero St APT 1, San Francisco, CA 94110': 1,\n",
       "         '1933 B Jones St, San Francisco, CA 94133': 1,\n",
       "         '708 Long Bridge St APT 110, San Francisco, CA 94158': 1,\n",
       "         '101 Upper Ter, San Francisco, CA 94117': 1})"
      ]
     },
     "execution_count": 610,
     "metadata": {},
     "output_type": "execute_result"
    }
   ],
   "source": [
    "Counter([address for category in LISTINGS for address in category[1]])"
   ]
  },
  {
   "cell_type": "markdown",
   "id": "competent-progressive",
   "metadata": {},
   "source": [
    "## scrape google zillow ca only "
   ]
  },
  {
   "cell_type": "code",
   "execution_count": 75,
   "id": "enormous-lobby",
   "metadata": {},
   "outputs": [],
   "source": [
    "def get_image_modules(in_search_term):\n",
    "    MODULE_CLASS=\"isv-r PNCib MSM1fd BUooTd\"\n",
    "    browser.get(ImgExtract.search_template.format(q=in_search_term))\n",
    "    sleep(7)\n",
    "    browser.execute_script(\"window.scrollTo(0, document.body.scrollHeight)\")\n",
    "    sleep(7)\n",
    "    google_image_page=BeautifulSoup(browser.page_source, 'lxml')\n",
    "    all_image_modules=google_image_page.body.find_all(\"div\", {\"class\": MODULE_CLASS})\n",
    "    return [block for block in all_image_modules]"
   ]
  },
  {
   "cell_type": "code",
   "execution_count": 79,
   "id": "rough-orchestra",
   "metadata": {},
   "outputs": [],
   "source": [
    "def extract_address_image(in_image_module):\n",
    "    TITLE_CLASS=\"VFACy kGQAp sMi44c lNHeqe WGvvNb\"\n",
    "    title = in_image_module.find_all(\"a\", {\"class\":TITLE_CLASS}, title=True)[0][\"title\"]\n",
    "    image_finding = in_image_module.find(\"img\", src=True) \n",
    "    try:\n",
    "        image_encription=image_finding[\"src\"]\n",
    "    except TypeError:\n",
    "        image_encription = None\n",
    "    if image_encription:\n",
    "        cleaned=re.sub(r\"(?i)\\||zillow\", \"\", title).strip()\n",
    "        address= cleaned if \", CA\" in cleaned else None\n",
    "        return address, image_encription"
   ]
  },
  {
   "cell_type": "code",
   "execution_count": 81,
   "id": "interpreted-trace",
   "metadata": {},
   "outputs": [],
   "source": [
    "LISTING_SEARCHTERMS=[\n",
    "    'disrepair kitchen \"CA\" site:zillow.com',\n",
    "    'old broken kitchen \"CA\" site:Redfin.com',\n",
    "    'dilapidated kitchen \"CA\" site:zillow.com',\n",
    "    'dirty kitchen \"CA\" site:zillow.com',\n",
    "    'abandoned dirty kitchen \"CA\" site:zillow.com',\n",
    "    'small messy kitchen \"CA\" site:zillow.com',\n",
    "\n",
    "    'cheap condo kitchen \"CA\" site:zillow.com',\n",
    "    'cheap apartment kitchen \"CA\" site:zillow.com',\n",
    "    'motel kitchen \"CA\" site:zillow.com',\n",
    "\n",
    "    'luxurious kitchen \"CA\" site:zillow.com',\n",
    "    'expensive kitchen \"CA\" site:zillow.com',\n",
    "    'mansion kitchen \"CA\" site:zillow.com']\n",
    "\n",
    "LISTING_SEARCHTERMS_TESTING=[ \n",
    "    'motel kitchen \"CA\" site:zillow.com',\n",
    "    'luxurious kitchen \"CA\" site:zillow.com'\n",
    "]"
   ]
  },
  {
   "cell_type": "code",
   "execution_count": 82,
   "id": "flexible-shepherd",
   "metadata": {},
   "outputs": [
    {
     "name": "stdout",
     "output_type": "stream",
     "text": [
      "disrepair kitchen \"CA\" site:zillow.com\n",
      "21\n",
      "old broken kitchen \"CA\" site:Redfin.com\n",
      "20\n",
      "dilapidated kitchen \"CA\" site:zillow.com\n",
      "20\n",
      "dirty kitchen \"CA\" site:zillow.com\n",
      "26\n",
      "abandoned dirty kitchen \"CA\" site:zillow.com\n",
      "20\n",
      "small messy kitchen \"CA\" site:zillow.com\n",
      "20\n",
      "cheap condo kitchen \"CA\" site:zillow.com\n",
      "50\n",
      "cheap apartment kitchen \"CA\" site:zillow.com\n",
      "57\n",
      "motel kitchen \"CA\" site:zillow.com\n",
      "45\n",
      "luxurious kitchen \"CA\" site:zillow.com\n",
      "34\n",
      "expensive kitchen \"CA\" site:zillow.com\n",
      "23\n",
      "mansion kitchen \"CA\" site:zillow.com\n",
      "50\n"
     ]
    },
    {
     "data": {
      "text/plain": [
       "370"
      ]
     },
     "execution_count": 82,
     "metadata": {},
     "output_type": "execute_result"
    }
   ],
   "source": [
    "shutil.rmtree(DEMO_LISTINGS_DUMPATH) \n",
    "os.mkdir(DEMO_LISTINGS_DUMPATH)\n",
    "all_listings=[]\n",
    "for index, phrase in enumerate(LISTING_SEARCHTERMS):\n",
    "    print(phrase)\n",
    "    image_modules=get_image_modules(phrase)\n",
    "    addresses_and_images=[extract_address_image(unit) \n",
    "                          for unit \n",
    "                          in image_modules]\n",
    "    addresses_and_images = [file \n",
    "                            for file \n",
    "                            in addresses_and_images if file]\n",
    "    print(len(addresses_and_images))\n",
    "    all_listings.extend(addresses_and_images)\n",
    "len(set(all_listings))"
   ]
  },
  {
   "cell_type": "code",
   "execution_count": 84,
   "id": "inside-feeding",
   "metadata": {},
   "outputs": [
    {
     "data": {
      "text/plain": [
       "[]"
      ]
     },
     "execution_count": 84,
     "metadata": {},
     "output_type": "execute_result"
    }
   ],
   "source": [
    "with open(f\"{DEMO_LISTINGS_DUMPATH}/full-listings.pkd\", \"wb\") as writefile:\n",
    "    dill.dump(all_listings, writefile)\n",
    "[\n",
    "    os.remove(f\"{DEMO_LISTINGS_DUMPATH}/{file}\")\n",
    "    for file in os.listdir(DEMO_LISTINGS_DUMPATH)\n",
    "    if \"listing-addresses-and-images\" in file \n",
    "]"
   ]
  },
  {
   "cell_type": "code",
   "execution_count": 85,
   "id": "norwegian-anthropology",
   "metadata": {},
   "outputs": [],
   "source": [
    "try:\n",
    "    os.remove(f\"{DEMO_LISTINGS_DUMPATH}/address_index.pkd\")\n",
    "except FileNotFoundError:\n",
    "    pass\n",
    "try: \n",
    "    shutil.rmtree(f\"{DEMO_LISTINGS_DUMPATH}/downloads\")\n",
    "except FileNotFoundError:\n",
    "    pass\n",
    "os.mkdir(f\"{DEMO_LISTINGS_DUMPATH}/downloads\")\n",
    "\n",
    "with open(f\"{DEMO_LISTINGS_DUMPATH}/full-listings.pkd\", \"rb\") as readfile:\n",
    "    full_listings=dill.load(readfile)\n",
    "    \n",
    "addr_directories=[]\n",
    "for index, address_encription in enumerate(full_listings):\n",
    "    address, encription=address_encription\n",
    "    downloaded=(ImgExtract.decode_base64(f\"{DEMO_LISTINGS_DUMPATH}/downloads/{index}.jpeg\",\n",
    "                                         encription) \n",
    "                if \"data:image/jpeg;base64\" in encription \n",
    "                else urlretrieve(encription, \n",
    "                                 filename=f\"{DEMO_LISTINGS_DUMPATH}/downloads/{index}.jpg\"))\n",
    "    \n",
    "    addr_directories.append((index, address))\n",
    "    \n",
    "with open(f\"{DEMO_LISTINGS_DUMPATH}/downloads/address_index.pkd\", \"wb\") as writefile:\n",
    "    dill.dump(addr_directories, writefile)"
   ]
  },
  {
   "cell_type": "code",
   "execution_count": 124,
   "id": "funded-raise",
   "metadata": {},
   "outputs": [
    {
     "data": {
      "text/plain": [
       "205"
      ]
     },
     "execution_count": 124,
     "metadata": {},
     "output_type": "execute_result"
    }
   ],
   "source": [
    "len([file[0] for file in all_listings if not file[0]])"
   ]
  },
  {
   "cell_type": "code",
   "execution_count": 113,
   "id": "mineral-pipeline",
   "metadata": {},
   "outputs": [
    {
     "name": "stdout",
     "output_type": "stream",
     "text": [
      "addresses-and-images.tar.gz full-listings.pkd\n",
      "\u001b[34mdownloads\u001b[m\u001b[m\n",
      "tar: ./downloads: Cannot stat: No such file or directory\n",
      "tar: Error exit delayed from previous errors.\n"
     ]
    }
   ],
   "source": [
    "! cd /Users/jhshi/MyJupyterProjs/capstonedump/demo-listings \n",
    "! ls /Users/jhshi/MyJupyterProjs/capstonedump/demo-listings \n",
    "! tar -czvf addresses-and-images.tar.gz ./downloads -C ."
   ]
  }
 ],
 "metadata": {
  "kernelspec": {
   "display_name": "Python 3",
   "language": "python",
   "name": "python3"
  },
  "language_info": {
   "codemirror_mode": {
    "name": "ipython",
    "version": 3
   },
   "file_extension": ".py",
   "mimetype": "text/x-python",
   "name": "python",
   "nbconvert_exporter": "python",
   "pygments_lexer": "ipython3",
   "version": "3.8.5"
  },
  "widgets": {
   "application/vnd.jupyter.widget-state+json": {
    "state": {},
    "version_major": 2,
    "version_minor": 0
   }
  }
 },
 "nbformat": 4,
 "nbformat_minor": 5
}
